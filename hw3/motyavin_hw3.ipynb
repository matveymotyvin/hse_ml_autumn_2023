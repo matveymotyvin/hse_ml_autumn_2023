{
 "cells": [
  {
   "cell_type": "markdown",
   "metadata": {},
   "source": [
    "### Машинное обучение\n",
    "## Домашнее задание №3 - Градиентный бустинг"
   ]
  },
  {
   "cell_type": "markdown",
   "metadata": {},
   "source": [
    "**Общая информация**\n",
    "\n",
    "**Срок сдачи:** 5 декабря 2023, 23:59   \n",
    "**Штраф за опоздание:** -2 балла за каждые сутки\n",
    "\n",
    "Используйте данный Ipython Notebook при оформлении домашнего задания."
   ]
  },
  {
   "cell_type": "markdown",
   "metadata": {},
   "source": [
    "##  Считаем производные для функций потерь (1 балл)"
   ]
  },
  {
   "cell_type": "markdown",
   "metadata": {},
   "source": [
    "Мы будем реализовать градиентный бустинг для 3 функций потерь:\n",
    "\n",
    "1) MSE  $L(a(x_i), y_i) = (y_i - a(x_i)) ^ 2$\n",
    "\n",
    "2) Экспоненциальная  $L(a(x_i), y_i) = exp( -a(x_i) y_i), y_i \\in \\{-1, 1\\}$\n",
    "\n",
    "3) Логистическая  $L(a(x_i), y_i) = \\log (1 + exp( -a(x_i) y_i)), y_i \\in \\{-1, 1\\}$\n",
    "\n",
    "где $a(x_i)$ предсказание бустинга на итом объекте. \n",
    "\n",
    "Для каждой функции потерь напишите таргет, на который будет настраиваться каждое дерево в бустинге. "
   ]
  },
  {
   "cell_type": "markdown",
   "metadata": {},
   "source": [
    "Ваше решение тут"
   ]
  },
  {
   "cell_type": "markdown",
   "metadata": {},
   "source": [
    "##  Реализуем градиентный бустинг (3 балла)"
   ]
  },
  {
   "cell_type": "markdown",
   "metadata": {},
   "source": [
    "Реализуйте класс градиентного бустинга для классификации. Ваша реализация бустинга должна работать по точности не более чем на 5 процентов хуже чем GradientBoostingClassifier из sklearn. \n"
   ]
  },
  {
   "cell_type": "markdown",
   "metadata": {},
   "source": [
    "Детали реализации:\n",
    "\n",
    "-- должно поддерживаться 3 функции потерь\n",
    "\n",
    "-- сами базовые алгоритмы(деревья, линейные модели и тп) реализовать не надо, просто возьмите готовые из sklearn\n",
    "\n",
    "-- в качестве функции потерь для построения одного дерева используйте MSE\n",
    "\n",
    "-- шаг в бустинге можно не подбирать, можно брать константный\n",
    "\n",
    "-- можно брать разные модели в качестве инициализации бустинга\n",
    "\n",
    "-- должны поддерживаться следующие параметры:\n",
    "\n",
    "а) число итераций\n",
    "б) размер шага\n",
    "в) процент случайных фичей при построении одного дерева\n",
    "д) процент случайных объектов при построении одного дерева\n",
    "е) параметры базового алгоритма (передавайте через **kwargs)"
   ]
  },
  {
   "cell_type": "code",
   "execution_count": 66,
   "metadata": {},
   "outputs": [],
   "source": [
    "import numpy as np\n",
    "\n",
    "from scipy import stats\n",
    "from sklearn.datasets import load_wine\n",
    "from sklearn.ensemble import GradientBoostingClassifier\n",
    "from sklearn.metrics import accuracy_score\n",
    "from sklearn.model_selection import train_test_split\n",
    "from sklearn.tree import DecisionTreeRegressor\n",
    "import random\n",
    "import matplotlib.pyplot as plt"
   ]
  },
  {
   "cell_type": "code",
   "execution_count": 7,
   "metadata": {},
   "outputs": [],
   "source": [
    "class MyGradientBoostingClassifier:\n",
    "\n",
    "    def __init__(self, loss='mse', \n",
    "                 learning_rate=0.1, \n",
    "                 n_estimators=50, \n",
    "                 colsample=1.0, \n",
    "                 subsample=1.0, \n",
    "                 *args, **kwargs):\n",
    "        \"\"\"\n",
    "        loss -- один из 3 лоссов:\n",
    "        learning_rate -- шаг бустинга\n",
    "        n_estimators -- число итераций\n",
    "        colsample -- процент рандомных признаков при обучнеии одного алгоритма\n",
    "        subsample -- процент рандомных объектов при обучнеии одного алгоритма\n",
    "        args, kwargs -- параметры  базовых моделей\n",
    "        \"\"\"\n",
    "        # Ваш код здесь\n",
    "        self.loss = loss\n",
    "        self.learning_rate = learning_rate\n",
    "        self.n_estimators = n_estimators\n",
    "        self.colsample = colsample\n",
    "        self.subsample = subsample\n",
    "        self.args = args\n",
    "        self.kwargs = kwargs\n",
    "        self.losses_dict = {\n",
    "            'mse' : self.mse_grad,\n",
    "            'exploss' : self.exp_grad,\n",
    "            'logloss' : self.logloss_grad\n",
    "        }\n",
    "\n",
    "    def mse_grad(self, y_true, y_pred):\n",
    "      return 2 * (y_true - y_pred)\n",
    "\n",
    "    def exp_grad(self, y_true, y_pred):\n",
    "      return np.exp(y_true * -y_pred) * y_true\n",
    "      \n",
    "   \n",
    "    def logloss_grad(self, y_true, y_pred):\n",
    "      d1 = np.exp(-y_pred * y_true) \n",
    "      return (d1 * y_true) / (1 + d1)\n",
    "\n",
    "\n",
    "    def fit(self, X, y, base_model = DecisionTreeRegressor, init_model=None):\n",
    "        \"\"\"\n",
    "        X -- объекты для обучения:\n",
    "        y -- таргеты для обучения\n",
    "        base_model -- класс базовых моделей, например sklearn.tree.DecisionTreeRegressor\n",
    "        init_model -- класс для первой модели, если None то берем константу (только для посл задания)\n",
    "        \"\"\"\n",
    "          \n",
    "        loss_func = self.losses_dict[self.loss]\n",
    "        obj_sample_size = int(np.round(self.subsample * X.shape[0]))\n",
    "        cols_sample_size = int(np.round(self.colsample * X.shape[1]))\n",
    "\n",
    "        self.models = []\n",
    "        self.features = []\n",
    "\n",
    "        if init_model is None:\n",
    "          y_pred = 0\n",
    "          self.startModel = None\n",
    "        else:\n",
    "          self.startModel = init_model()\n",
    "          self.startModel.fit(X, y)\n",
    "          y_pred = self.startModel.predict(X)\n",
    "\n",
    "        for _ in range(self.n_estimators):\n",
    "          estimator = base_model(*self.args, **self.kwargs)\n",
    "          grad = loss_func(y, y_pred)\n",
    "          x_train_size = np.array(random.sample(range(X.shape[0]), obj_sample_size))\n",
    "          cols = np.array(random.sample(range(X.shape[1]), cols_sample_size))\n",
    "          estimator.fit(X[x_train_size[:, np.newaxis], cols], grad[x_train_size])\n",
    "          y_pred += self.learning_rate * estimator.predict(X[:, cols])\n",
    "          self.models.append(estimator)\n",
    "          self.features.append(cols)\n",
    "        \n",
    "\n",
    "\n",
    "        \n",
    "    def predict(self, X):\n",
    "      if self.startModel is None:\n",
    "        y_pred = 0\n",
    "      else:\n",
    "        y_pred = self.startModel.predict(X)\n",
    "      for model, feature in zip(self.models, self.features):\n",
    "        y_pred += self.learning_rate * model.predict(X[:, feature])\n",
    "\n",
    "      if self.loss == 'mse':       \n",
    "            return np.around(y_pred).astype(int)\n",
    "      else:\n",
    "            return np.where(y_pred>=0, 1, -1)"
   ]
  },
  {
   "cell_type": "code",
   "execution_count": 11,
   "metadata": {},
   "outputs": [],
   "source": [
    "my_clf = MyGradientBoostingClassifier()\n",
    "clf = GradientBoostingClassifier()"
   ]
  },
  {
   "cell_type": "code",
   "execution_count": 12,
   "metadata": {},
   "outputs": [],
   "source": [
    "wine = load_wine()\n",
    "X_train, X_test, y_train, y_test = train_test_split(wine.data, wine.target, test_size=0.1, stratify=wine.target)"
   ]
  },
  {
   "cell_type": "code",
   "execution_count": 13,
   "metadata": {},
   "outputs": [
    {
     "name": "stdout",
     "output_type": "stream",
     "text": [
      "0.9444444444444444\n",
      "0.9444444444444444\n"
     ]
    }
   ],
   "source": [
    "my_clf.fit(X_train, y_train)\n",
    "clf.fit(X_train, y_train)\n",
    "print(accuracy_score(y_pred=clf.predict(X_test), y_true=y_test))\n",
    "print(accuracy_score(y_pred=my_clf.predict(X_test), y_true=y_test))"
   ]
  },
  {
   "cell_type": "markdown",
   "metadata": {},
   "source": [
    "## Подбираем параметры (2 балла)\n",
    "\n",
    "Давайте попробуем применить Ваш бустинг для предсказаний цены домов в Калифорнии. Чтобы можно было попробовтаь разные функции потерь, переведем по порогу таргет в 2 класса: дорогие и дешевые дома."
   ]
  },
  {
   "cell_type": "markdown",
   "metadata": {},
   "source": [
    "В задании нужно\n",
    "\n",
    "1) Построить график точности в зависимости от числа итераций на валидации.\n",
    "\n",
    "2) Подобрать оптимальные параметры Вашего бустинга на валидации. \n"
   ]
  },
  {
   "cell_type": "code",
   "execution_count": 15,
   "metadata": {},
   "outputs": [],
   "source": [
    "from sklearn.datasets import fetch_california_housing\n",
    "X, y = fetch_california_housing(return_X_y=True)"
   ]
  },
  {
   "cell_type": "code",
   "execution_count": 16,
   "metadata": {},
   "outputs": [
    {
     "name": "stdout",
     "output_type": "stream",
     "text": [
      "(20640, 8) (20640,)\n"
     ]
    }
   ],
   "source": [
    "# Превращаем регрессию в классификацию\n",
    "y = (y > 2.0).astype(int)\n",
    "print(X.shape, y.shape)"
   ]
  },
  {
   "cell_type": "code",
   "execution_count": 17,
   "metadata": {},
   "outputs": [],
   "source": [
    "X_train, X_test, y_train, y_test = train_test_split(X, y, test_size=0.2, stratify=y)"
   ]
  },
  {
   "cell_type": "code",
   "execution_count": 44,
   "metadata": {},
   "outputs": [],
   "source": [
    "n_estimators_range = [i for i in range(5, 200, 10)] \n",
    "loss_plot = {\n",
    "    'mse' : [],\n",
    "    'exploss' : [],\n",
    "    'logloss' : []}"
   ]
  },
  {
   "cell_type": "code",
   "execution_count": 45,
   "metadata": {},
   "outputs": [
    {
     "name": "stderr",
     "output_type": "stream",
     "text": [
      "  0%|          | 0/3 [00:00<?, ?it/s]\n",
      "mse:   0%|          | 0/20 [00:00<?, ?it/s]\u001b[A\n",
      "mse:   5%|▌         | 1/20 [00:00<00:18,  1.03it/s]\u001b[A\n",
      "mse:  10%|█         | 2/20 [00:03<00:37,  2.09s/it]\u001b[A\n",
      "mse:  15%|█▌        | 3/20 [00:08<00:55,  3.28s/it]\u001b[A\n",
      "mse:  20%|██        | 4/20 [00:15<01:13,  4.58s/it]\u001b[A\n",
      "mse:  25%|██▌       | 5/20 [00:23<01:29,  5.97s/it]\u001b[A\n",
      "mse:  30%|███       | 6/20 [00:33<01:44,  7.43s/it]\u001b[A\n",
      "mse:  35%|███▌      | 7/20 [00:45<01:56,  8.97s/it]\u001b[A\n",
      "mse:  40%|████      | 8/20 [00:59<02:06, 10.54s/it]\u001b[A\n",
      "mse:  45%|████▌     | 9/20 [01:14<02:11, 11.95s/it]\u001b[A\n",
      "mse:  50%|█████     | 10/20 [01:30<02:09, 12.96s/it]\u001b[A\n",
      "mse:  55%|█████▌    | 11/20 [01:45<02:03, 13.68s/it]\u001b[A\n",
      "mse:  60%|██████    | 12/20 [02:00<01:53, 14.23s/it]\u001b[A\n",
      "mse:  65%|██████▌   | 13/20 [02:16<01:42, 14.63s/it]\u001b[A\n",
      "mse:  70%|███████   | 14/20 [02:32<01:29, 14.97s/it]\u001b[A\n",
      "mse:  75%|███████▌  | 15/20 [02:48<01:16, 15.23s/it]\u001b[A\n",
      "mse:  80%|████████  | 16/20 [03:04<01:01, 15.45s/it]\u001b[A\n",
      "mse:  85%|████████▌ | 17/20 [03:20<00:46, 15.63s/it]\u001b[A\n",
      "mse:  90%|█████████ | 18/20 [03:36<00:31, 15.80s/it]\u001b[A\n",
      "mse:  95%|█████████▌| 19/20 [03:52<00:15, 15.97s/it]\u001b[A\n",
      "mse: 100%|██████████| 20/20 [04:09<00:00, 12.45s/it]\u001b[A\n",
      " 33%|███▎      | 1/3 [04:09<08:18, 249.05s/it]\n",
      "exploss:   0%|          | 0/20 [00:00<?, ?it/s]\u001b[A\n",
      "exploss:   5%|▌         | 1/20 [00:00<00:18,  1.02it/s]\u001b[A\n",
      "exploss:  10%|█         | 2/20 [00:03<00:38,  2.13s/it]\u001b[A\n",
      "exploss:  15%|█▌        | 3/20 [00:08<00:57,  3.38s/it]\u001b[A\n",
      "exploss:  20%|██        | 4/20 [00:15<01:15,  4.72s/it]\u001b[A\n",
      "exploss:  25%|██▌       | 5/20 [00:24<01:32,  6.14s/it]\u001b[A\n",
      "exploss:  30%|███       | 6/20 [00:34<01:46,  7.62s/it]\u001b[A\n",
      "exploss:  35%|███▌      | 7/20 [00:47<01:59,  9.18s/it]\u001b[A\n",
      "exploss:  40%|████      | 8/20 [01:01<02:09, 10.79s/it]\u001b[A\n",
      "exploss:  45%|████▌     | 9/20 [01:17<02:17, 12.46s/it]\u001b[A\n",
      "exploss:  50%|█████     | 10/20 [01:35<02:21, 14.15s/it]\u001b[A\n",
      "exploss:  55%|█████▌    | 11/20 [01:55<02:23, 15.90s/it]\u001b[A\n",
      "exploss:  60%|██████    | 12/20 [02:16<02:21, 17.66s/it]\u001b[A\n",
      "exploss:  65%|██████▌   | 13/20 [02:40<02:16, 19.43s/it]\u001b[A\n",
      "exploss:  70%|███████   | 14/20 [03:05<02:07, 21.24s/it]\u001b[A\n",
      "exploss:  75%|███████▌  | 15/20 [03:33<01:55, 23.04s/it]\u001b[A\n",
      "exploss:  80%|████████  | 16/20 [04:02<01:39, 24.86s/it]\u001b[A\n",
      "exploss:  85%|████████▌ | 17/20 [04:33<01:20, 26.69s/it]\u001b[A\n",
      "exploss:  90%|█████████ | 18/20 [05:05<00:57, 28.51s/it]\u001b[A\n",
      "exploss:  95%|█████████▌| 19/20 [05:40<00:30, 30.33s/it]\u001b[A\n",
      "exploss: 100%|██████████| 20/20 [06:16<00:00, 18.85s/it]\u001b[A\n",
      " 67%|██████▋   | 2/3 [10:26<05:24, 324.30s/it]\n",
      "logloss:   0%|          | 0/20 [00:00<?, ?it/s]\u001b[A\n",
      "logloss:   5%|▌         | 1/20 [00:00<00:18,  1.05it/s]\u001b[A\n",
      "logloss:  10%|█         | 2/20 [00:03<00:37,  2.08s/it]\u001b[A\n",
      "logloss:  15%|█▌        | 3/20 [00:08<00:55,  3.29s/it]\u001b[A\n",
      "logloss:  20%|██        | 4/20 [00:15<01:13,  4.62s/it]\u001b[A\n",
      "logloss:  25%|██▌       | 5/20 [00:23<01:30,  6.04s/it]\u001b[A\n",
      "logloss:  30%|███       | 6/20 [00:34<01:45,  7.55s/it]\u001b[A\n",
      "logloss:  35%|███▌      | 7/20 [00:46<01:58,  9.10s/it]\u001b[A\n",
      "logloss:  40%|████      | 8/20 [01:00<02:08, 10.75s/it]\u001b[A\n",
      "logloss:  45%|████▌     | 9/20 [01:16<02:16, 12.41s/it]\u001b[A\n",
      "logloss:  50%|█████     | 10/20 [01:34<02:21, 14.12s/it]\u001b[A\n",
      "logloss:  55%|█████▌    | 11/20 [01:54<02:22, 15.86s/it]\u001b[A\n",
      "logloss:  60%|██████    | 12/20 [02:16<02:21, 17.70s/it]\u001b[A\n",
      "logloss:  65%|██████▌   | 13/20 [02:40<02:16, 19.45s/it]\u001b[A\n",
      "logloss:  70%|███████   | 14/20 [03:05<02:07, 21.23s/it]\u001b[A\n",
      "logloss:  75%|███████▌  | 15/20 [03:32<01:55, 23.01s/it]\u001b[A\n",
      "logloss:  80%|████████  | 16/20 [04:01<01:39, 24.83s/it]\u001b[A\n",
      "logloss:  85%|████████▌ | 17/20 [04:32<01:19, 26.65s/it]\u001b[A\n",
      "logloss:  90%|█████████ | 18/20 [05:05<00:56, 28.45s/it]\u001b[A\n",
      "logloss:  95%|█████████▌| 19/20 [05:39<00:30, 30.32s/it]\u001b[A\n",
      "logloss: 100%|██████████| 20/20 [06:16<00:00, 18.81s/it]\u001b[A\n",
      "100%|██████████| 3/3 [16:42<00:00, 334.08s/it]\n"
     ]
    }
   ],
   "source": [
    "from tqdm import tqdm\n",
    "for loss_type in tqdm(loss_plot.keys()):\n",
    "    for n_estimators in tqdm(n_estimators_range, desc=f\"{loss_type}\"):\n",
    "        my_clf = MyGradientBoostingClassifier(\n",
    "            loss=loss_type,\n",
    "            n_estimators=n_estimators,\n",
    "            colsample=1.0,\n",
    "            subsample=1.0,\n",
    "            random_state=0\n",
    "        )\n",
    "        my_clf.fit(X_train, y_train)\n",
    "        pred = np.around(my_clf.predict(X_test)).astype(int)\n",
    "        score = accuracy_score(y_pred=pred, y_true=y_test)\n",
    "        loss_plot[loss_type].append(score)"
   ]
  },
  {
   "cell_type": "code",
   "execution_count": 46,
   "metadata": {},
   "outputs": [
    {
     "data": {
      "image/png": "[encoded data removed]",
      "text/plain": [
       "<Figure size 640x480 with 1 Axes>"
      ]
     },
     "metadata": {},
     "output_type": "display_data"
    }
   ],
   "source": [
    "plt.ylabel('Accuracy')\n",
    "plt.xlabel('n_estimators')\n",
    "for loss_type in loss_plot.keys():\n",
    "    plt.plot(n_estimators_range, loss_plot[loss_type], label=loss_type)\n",
    "plt.legend()\n",
    "plt.show()"
   ]
  },
  {
   "cell_type": "code",
   "execution_count": 47,
   "metadata": {},
   "outputs": [
    {
     "data": {
      "image/png": "[encoded data removed]",
      "text/plain": [
       "<Figure size 640x480 with 1 Axes>"
      ]
     },
     "metadata": {},
     "output_type": "display_data"
    }
   ],
   "source": [
    "for loss_type in list(loss_plot.keys())[1:]:\n",
    "    plt.plot(n_estimators_range, loss_plot[loss_type], label=loss_type)\n",
    "    \n",
    "plt.legend()\n",
    "plt.show()"
   ]
  },
  {
   "cell_type": "markdown",
   "metadata": {},
   "source": [
    "Мы видим, что лучшим критерием ошибки при стандартных параметрах является MSE, а для обучения достаточно уже 5 итераций, но возьмем для стабильности 15, вдруг будут изменения при настройке параметров.\n",
    "Подберем colsample и subsample."
   ]
  },
  {
   "cell_type": "code",
   "execution_count": 48,
   "metadata": {},
   "outputs": [],
   "source": [
    "class GridSearch:\n",
    "\n",
    "  def __init__(self, losses, cols_sample, sub_samples):\n",
    "    self.n_estimators =  15\n",
    "    self.losses = losses\n",
    "    self.cols_sample = cols_sample\n",
    "    self.sub_samples = sub_samples\n",
    "    self.max_accuracy = -1\n",
    "  def findParams(self, X_train, y_train, X_test, y_test):\n",
    "    logger = {'loss' : 'mse',\n",
    "              'colsample' : 0,\n",
    "              'subsample' :0,\n",
    "              'n_estimators' : self.n_estimators}\n",
    "\n",
    "    for loss in self.losses:\n",
    "      for cols_s in self.cols_sample:\n",
    "        for sub_s in self.sub_samples:\n",
    "          my_clf = MyGradientBoostingClassifier(n_estimators=self.n_estimators, \n",
    "                                                loss = loss, colsample = cols_s,\n",
    "                                                subsample = sub_s)\n",
    "          if loss == 'mse':\n",
    "            my_clf.fit(X_train, y_train)\n",
    "            accuracy_pred = accuracy_score(my_clf.predict(X_test), y_test)\n",
    "          else:\n",
    "            my_clf.fit(X_train, 2 * y_train -1 ) # для logloss и exploss превращаем 0 класс в -1\n",
    "            accuracy_pred = accuracy_score(my_clf.predict(X_test), 2 * y_test -1)\n",
    "\n",
    "          if accuracy_pred > self.max_accuracy:\n",
    "            logger['loss'] = loss\n",
    "            logger['colsample'] = cols_s\n",
    "            logger['subsample'] = sub_s\n",
    "            self.max_accuracy =  accuracy_pred\n",
    "    return logger, self.max_accuracy"
   ]
  },
  {
   "cell_type": "code",
   "execution_count": 53,
   "metadata": {},
   "outputs": [],
   "source": [
    "grid_search = GridSearch(losses = ['mse'],\n",
    "                 cols_sample = np.linspace(0.2, 1, 5),\n",
    "                 sub_samples = np.linspace(0.2, 1, 5))"
   ]
  },
  {
   "cell_type": "code",
   "execution_count": 54,
   "metadata": {},
   "outputs": [],
   "source": [
    "best_params, accuracy = grid_search.findParams(X_train, y_train, X_test ,y_test)"
   ]
  },
  {
   "cell_type": "code",
   "execution_count": 62,
   "metadata": {},
   "outputs": [
    {
     "data": {
      "text/plain": [
       "{'loss': 'mse', 'colsample': 0.8, 'subsample': 0.8, 'n_estimators': 15}"
      ]
     },
     "execution_count": 62,
     "metadata": {},
     "output_type": "execute_result"
    }
   ],
   "source": [
    "best_params"
   ]
  },
  {
   "cell_type": "code",
   "execution_count": 63,
   "metadata": {},
   "outputs": [
    {
     "name": "stdout",
     "output_type": "stream",
     "text": [
      "0.8892926356589147\n"
     ]
    }
   ],
   "source": [
    "accuracy"
   ]
  },
  {
   "cell_type": "markdown",
   "metadata": {},
   "source": [
    "Оптимальные параметры mse, n_estimators=15, colsample=0.8, subsample=0.8"
   ]
  },
  {
   "cell_type": "markdown",
   "metadata": {},
   "source": [
    "## BooBag BagBoo (1 балл)\n",
    "\n"
   ]
  },
  {
   "cell_type": "markdown",
   "metadata": {},
   "source": [
    "Попробуем объединить бустинг и бэгинг. Давайте\n",
    "\n",
    "1) в качестве базовой модели брать не дерево решений, а случайный лес (из sklearn)\n",
    "\n",
    "2) обучать N бустингов на бустрапированной выборке, а затем предикт усреднять"
   ]
  },
  {
   "cell_type": "markdown",
   "metadata": {},
   "source": [
    "Попробуйте обе этих стратегии на данных из прошлого задания. Получилось ли улучшить качество? Почему?"
   ]
  },
  {
   "cell_type": "code",
   "execution_count": 58,
   "metadata": {},
   "outputs": [],
   "source": [
    "from sklearn.ensemble import RandomForestRegressor"
   ]
  },
  {
   "cell_type": "code",
   "execution_count": 60,
   "metadata": {},
   "outputs": [
    {
     "name": "stdout",
     "output_type": "stream",
     "text": [
      "accuracy: 0.878\n"
     ]
    }
   ],
   "source": [
    "my_clf = MyGradientBoostingClassifier(loss='mse', \n",
    "                                      learning_rate=1e-1, \n",
    "                                      n_estimators=15, \n",
    "                                      colsample=0.8, \n",
    "                                      subsample=0.8,\n",
    "                                      random_state=0)\n",
    "\n",
    "my_clf.fit(X_train, y_train, init_model=RandomForestRegressor)\n",
    "\n",
    "pred = np.around(my_clf.predict(X_test)).astype(int)\n",
    "score = accuracy_score(y_pred=np.round(my_clf.predict(X_test)).astype(int), y_true=y_test)\n",
    "print(f\"accuracy: {np.round(score, 3)}\")"
   ]
  },
  {
   "cell_type": "markdown",
   "metadata": {},
   "source": [
    "Просто случайный лес не смог улучшить результат, возможно это из-за того, что всё таки случайный лус уже не слишком слабый алгоритм и его хорошее начальное приближение, мешает ему в дальнейшем обучении"
   ]
  },
  {
   "cell_type": "code",
   "execution_count": 79,
   "metadata": {},
   "outputs": [
    {
     "name": "stderr",
     "output_type": "stream",
     "text": [
      "100%|██████████| 10/10 [00:22<00:00,  2.22s/it]\n"
     ]
    }
   ],
   "source": [
    "n_boostings = 10\n",
    "\n",
    "pred = []\n",
    "bootstrap_size = X.shape[0]\n",
    "bagging_ensemble = []\n",
    "\n",
    "for i in tqdm(range(n_boostings)):\n",
    "    bootstrap_idx = np.random.choice(range(X_train.shape[0]), replace=True, size=bootstrap_size)\n",
    "    X_bootstrap, y_bootstrap = X_train[bootstrap_idx], y_train[bootstrap_idx]\n",
    "    \n",
    "    my_clf = MyGradientBoostingClassifier(loss='mse', \n",
    "                                      learning_rate=1e-1, \n",
    "                                      n_estimators=15, \n",
    "                                      colsample=0.8, \n",
    "                                      subsample=0.8,\n",
    "                                      random_state=0)\n",
    "\n",
    "    my_clf.fit(X_bootstrap, y_bootstrap)\n",
    "    bagging_ensemble.append(my_clf)\n",
    "    pred.append(my_clf.predict(X_test))"
   ]
  },
  {
   "cell_type": "code",
   "execution_count": 80,
   "metadata": {},
   "outputs": [
    {
     "name": "stdout",
     "output_type": "stream",
     "text": [
      "Accuracy| mean: 0.88178 mode: 0.88178 median: 0.88178\n"
     ]
    }
   ],
   "source": [
    "pred = np.array(pred)\n",
    "\n",
    "pred_mean = np.mean(pred, axis=0)\n",
    "pred_mode = stats.mode(np.round(pred).astype(int), keepdims=False)[0]\n",
    "pred_median = np.median(np.round(pred).astype(int), axis=0)\n",
    "\n",
    "score_mean = accuracy_score(y_pred=np.round(pred_mean).astype(int), y_true=y_test)\n",
    "score_mode = accuracy_score(y_pred=np.round(pred_mode).astype(int), y_true=y_test)\n",
    "score_median = accuracy_score(y_pred=np.round(pred_median).astype(int), y_true=y_test)\n",
    "\n",
    "print(f\"Accuracy| mean: {np.round(score_mean, 5)} mode: {np.round(score_mode, 5)} median: {np.round(score_median, 5)}\")"
   ]
  },
  {
   "cell_type": "markdown",
   "metadata": {},
   "source": [
    "Бэгинг тоже не смог улучшить результат, хотя и подобрался к нему чуть ближе. У бэггинга за счет комбинации моделей ошибка снижается, поэтому если возможно поиграться с параметрами получится еще увеличить качество."
   ]
  },
  {
   "cell_type": "markdown",
   "metadata": {
    "collapsed": true,
    "jupyter": {
     "outputs_hidden": true
    }
   },
   "source": [
    "## Умная инициализация (1 балл)\n",
    "\n",
    "Попробуйте брать в качестве инициализации бустинга не константу, а какой-то алгоритм и уже от его предикта стартовать итерации бустинга. Попробуйте разные модели из sklearn: линейные модели, рандом форест, svm..\n",
    "\n",
    "Получилось ли улучшить качество? Почему?\n",
    "\n"
   ]
  },
  {
   "cell_type": "code",
   "execution_count": 81,
   "metadata": {},
   "outputs": [],
   "source": [
    "from sklearn.svm import SVR\n",
    "from sklearn.linear_model import LogisticRegression\n",
    "from sklearn.linear_model import LinearRegression\n",
    "from sklearn.ensemble import RandomForestRegressor\n",
    "from sklearn.linear_model import ElasticNet"
   ]
  },
  {
   "cell_type": "code",
   "execution_count": 82,
   "metadata": {},
   "outputs": [],
   "source": [
    "base_models = [SVR, LinearRegression, RandomForestRegressor, ElasticNet]"
   ]
  },
  {
   "cell_type": "code",
   "execution_count": 85,
   "metadata": {},
   "outputs": [
    {
     "name": "stdout",
     "output_type": "stream",
     "text": [
      "SVR : 0.8788759689922481\n",
      "LinearRegression : 0.8837209302325582\n",
      "RandomForestRegressor : 0.8810562015503876\n",
      "ElasticNet : 0.8638565891472868\n"
     ]
    }
   ],
   "source": [
    "for model in base_models:\n",
    "    my_clf = MyGradientBoostingClassifier(loss='mse', \n",
    "                                      learning_rate=1e-1, \n",
    "                                      n_estimators=15, \n",
    "                                      colsample=0.8, \n",
    "                                      subsample=0.8,\n",
    "                                  random_state=0)\n",
    "    my_clf.fit(X_train, y_train, init_model=model)\n",
    "    print(f\"{model.__name__} : {accuracy_score(my_clf.predict(X_test), y_test)}\")"
   ]
  },
  {
   "cell_type": "markdown",
   "metadata": {},
   "source": [
    "Как мы видим все модели справились довольно неплохо, хоть и не перебили результат лучшего стандартного решения с подбором параметров. \n",
    "Как мы знаем линейные модели, конечно, не луччший выбор для бустинга, так как комбинация линейных моделей даёт линейную модель, но так как классификация была бинарная результат оказался не плохой. Лучше всех из линейных моделей оказало"
   ]
  },
  {
   "cell_type": "markdown",
   "metadata": {},
   "source": [
    "## Фидбек (бесценно)"
   ]
  },
  {
   "cell_type": "markdown",
   "metadata": {},
   "source": [
    "* Какие аспекты обучения  ансамблей Вам показались непонятными? Какое место стоит дополнительно объяснить?"
   ]
  },
  {
   "cell_type": "markdown",
   "metadata": {},
   "source": [
    "### Ваш ответ здесь"
   ]
  },
  {
   "cell_type": "markdown",
   "metadata": {},
   "source": [
    "* Здесь Вы можете оставить отзыв о этой домашней работе или о всем курсе."
   ]
  },
  {
   "cell_type": "markdown",
   "metadata": {},
   "source": [
    "### ВАШ ОТЗЫВ ЗДЕСЬ\n",
    "\n"
   ]
  },
  {
   "cell_type": "code",
   "execution_count": null,
   "metadata": {
    "collapsed": true,
    "jupyter": {
     "outputs_hidden": true
    }
   },
   "outputs": [],
   "source": []
  },
  {
   "cell_type": "code",
   "execution_count": null,
   "metadata": {
    "collapsed": true,
    "jupyter": {
     "outputs_hidden": true
    }
   },
   "outputs": [],
   "source": []
  }
 ],
 "metadata": {
  "anaconda-cloud": {},
  "kernelspec": {
   "display_name": "Python 3 (ipykernel)",
   "language": "python",
   "name": "python3"
  },
  "language_info": {
   "codemirror_mode": {
    "name": "ipython",
    "version": 3
   },
   "file_extension": ".py",
   "mimetype": "text/x-python",
   "name": "python",
   "nbconvert_exporter": "python",
   "pygments_lexer": "ipython3",
   "version": "3.10.12"
  }
 },
 "nbformat": 4,
 "nbformat_minor": 4
}
