{
  "cells": [
    {
      "cell_type": "markdown",
      "metadata": {
        "id": "ChMbRraBTou8"
      },
      "source": [
        "### Машинное Обучения\n",
        "\n",
        "## Домашнее задание №2 - Дерево решений"
      ]
    },
    {
      "cell_type": "markdown",
      "metadata": {
        "id": "vnMyQVOBTou9"
      },
      "source": [
        "**Общая информация**\n",
        "\n",
        "**Срок сдачи:** 21 ноября 2023, 08:30   \n",
        "**Штраф за опоздание:** -2 балла за каждые 2 дня опоздания\n",
        "\n",
        "Решений залить в свой github репозиторий.\n",
        "\n",
        "Используйте данный Ipython Notebook при оформлении домашнего задания."
      ]
    },
    {
      "cell_type": "markdown",
      "metadata": {
        "id": "n34F44KYTou-"
      },
      "source": [
        "##  Реализуем дерево решений (3 балла)"
      ]
    },
    {
      "cell_type": "markdown",
      "metadata": {
        "id": "Dx5J55f7Tou-"
      },
      "source": [
        "Допишите недостающие части дерева решений. Ваша реализация дерева должна работать по точности не хуже DecisionTreeClassifier из sklearn.\n",
        "Внимание: если Вас не устраивает предложенная структура хранения дерева, Вы без потери баллов можете сделать свой класс MyDecisionTreeClassifier, в котором сами полностью воспроизведете алгоритм дерева решений. Обязательно в нем иметь только функции fit, predict . (Но название класса не менять)"
      ]
    },
    {
      "cell_type": "code",
      "execution_count": 1,
      "metadata": {
        "collapsed": true,
        "jupyter": {
          "outputs_hidden": true
        },
        "id": "rHzpku8WTou-"
      },
      "outputs": [],
      "source": [
        "import matplotlib.pyplot as plt\n",
        "import numpy as np\n",
        "import pandas as pd\n",
        "\n",
        "from sklearn.datasets import load_wine\n",
        "from sklearn.ensemble import RandomForestClassifier\n",
        "from sklearn.metrics import accuracy_score, roc_auc_score, f1_score\n",
        "from sklearn.model_selection import KFold, train_test_split, GridSearchCV, RandomizedSearchCV\n",
        "from sklearn.tree import DecisionTreeClassifier\n",
        "from tqdm.notebook import tqdm\n",
        "from sklearn.base import BaseEstimator, ClassifierMixin\n",
        "from sklearn.model_selection import KFold, train_test_split, cross_val_score\n",
        "import warnings\n",
        "warnings.filterwarnings('ignore')"
      ]
    },
    {
      "cell_type": "code",
      "execution_count": 6,
      "metadata": {
        "id": "5gk8ucYwTou_"
      },
      "outputs": [],
      "source": [
        "class MyDecisionTreeClassifier(BaseEstimator, ClassifierMixin):\n",
        "    NON_LEAF_TYPE = 0\n",
        "    LEAF_TYPE = 1\n",
        "\n",
        "    def __init__(self, min_samples_split=2, max_depth=5, criterion='gini'):\n",
        "        \"\"\"\n",
        "        criterion -- критерий расщепления. необходимо релизовать три:\n",
        "        Ошибка классификации, Индекс Джини, Энтропийный критерий\n",
        "        max_depth -- максимальная глубина дерева\n",
        "        min_samples_split -- минимальное число объектов в листе, чтобы сделать новый сплит\n",
        "        \"\"\"\n",
        "        self.min_samples_split = min_samples_split\n",
        "        self.max_depth = max_depth\n",
        "        self.num_class = -1\n",
        "        # Для последнего задания\n",
        "        self.feature_importances_ = None\n",
        "        self.criterion = criterion\n",
        "        # Структура, которая описывает дерево\n",
        "        # Представляет словарь, где для  node_id (айдишник узла дерева) храним\n",
        "        # (тип_узла, айдишник признака сплита, порог сплита) если тип NON_LEAF_TYPE\n",
        "        # (тип_узла, предсказание класса, вероятность класса) если тип LEAF_TYPE\n",
        "        # Подразумевается, что у каждого node_id в дереве слева\n",
        "        # узел с айди 2 * node_id + 1, а справа 2 * node_id + 2\n",
        "        self.tree = dict()\n",
        "        if criterion == 'gini':\n",
        "            self.G_function = self.__gini\n",
        "        elif criterion == 'entropy':\n",
        "            self.G_function = self.__entropy\n",
        "        elif criterion == 'class_error':\n",
        "            self.G_function = self.__misclass\n",
        "        else:\n",
        "            print('name error')\n",
        "            raise\n",
        "\n",
        "    def __gini(self, p):\n",
        "        return 1 - (p**2).sum(axis=1)\n",
        "\n",
        "    def __entropy(self, p):\n",
        "        return -np.sum(p[np.where(p > 0)] * np.log10(p[np.where(p > 0)]))\n",
        "\n",
        "    def __misclass(self, p):\n",
        "        return 1 - p.max(axis=1)\n",
        "\n",
        "\n",
        "    def __get_feature_ids(self, n_feature):\n",
        "        return range(n_feature)\n",
        "\n",
        "    def __sort_samples(self, x, y):\n",
        "        sorted_idx = x.argsort()\n",
        "        return x[sorted_idx], y[sorted_idx]\n",
        "\n",
        "    def __div_samples(self, x, y, feature_id, threshold):\n",
        "        \"\"\"\n",
        "        Разделяет объекты на 2 множества\n",
        "        x -- матрица объектов\n",
        "        y -- вектор ответов\n",
        "        feature_id -- айдишник признака, по которому делаем сплит\n",
        "        threshold -- порог, по которому делаем сплит\n",
        "        \"\"\"\n",
        "        left_mask = x[:, feature_id] > threshold\n",
        "        right_mask = ~left_mask\n",
        "        return x[left_mask], x[right_mask], y[left_mask], y[right_mask]\n",
        "\n",
        "    def __find_threshold(self, x, y):\n",
        "        x_sort, y_sort=self.__sort_samples(x,y)\n",
        "\n",
        "        cut = int(self.min_samples_split / 2 - 1)\n",
        "        y_sort_slit = y_sort[cut:-cut] if cut != 0 else y_sort\n",
        "        indexes = np.where(y_sort_slit[:-1] != y_sort_slit[1:])[0] + (cut + 1)\n",
        "\n",
        "        # Отсутствие смещения класса\n",
        "        if len(indexes) == 0:\n",
        "            return np.inf, None\n",
        "\n",
        "        eq_count = indexes - np.append([cut], indexes[:-1])\n",
        "        one_hot_code = np.zeros((indexes.shape[0], self.num_class))\n",
        "        one_hot_code[np.arange(indexes.shape[0]), y_sort[indexes - 1]] = 1\n",
        "\n",
        "        class_increments = one_hot_code * eq_count.reshape(-1, 1)\n",
        "        class_increments[0] = class_increments[0] + np.bincount(y_sort[:cut], minlength=self.num_class)\n",
        "\n",
        "\n",
        "        # количество классов слева и справа в разбиении\n",
        "        l_class_count = np.cumsum(class_increments, axis=0)\n",
        "        r_class_count = np.bincount(y_sort, minlength=self.num_class) - l_class_count\n",
        "\n",
        "        # количество объектов слева и справа в разбиении\n",
        "        l_sizes = indexes.reshape(l_class_count.shape[0], 1)\n",
        "        r_sizes = y_sort.shape[0] - l_sizes\n",
        "\n",
        "        gs_l = self.G_function(l_class_count/l_sizes)*(l_sizes/(l_sizes+r_sizes)).T\n",
        "        gs_r = self.G_function(r_class_count/r_sizes)*(r_sizes/(l_sizes+r_sizes)).T\n",
        "        gs = gs_l.T + gs_r.T\n",
        "\n",
        "        indx = np.argmin(gs)\n",
        "\n",
        "        st_ind = l_sizes[indx][0]\n",
        "\n",
        "        return gs[indx], (x_sort[st_ind - 1] + x_sort[st_ind]) / 2.0\n",
        "\n",
        "\n",
        "    def __fit_node(self, x, y, node_id, depth):\n",
        "        # создаем терминал.\n",
        "        if (self.max_depth<=depth) or y.size < self.min_samples_split:\n",
        "            self.tree[node_id] = (self.LEAF_TYPE, np.bincount(y).argmax(), np.bincount(y).astype(float) / y.size)\n",
        "            return\n",
        "\n",
        "        # разбиваем\n",
        "        threshold = np.array([self.__find_threshold(x[:, i], y) for i in self.__get_feature_ids(x.shape[1])], dtype=object)\n",
        "\n",
        "        # оптимальная группа\n",
        "        best_id = threshold[:, 0].argmin()\n",
        "        best_threshold = threshold[best_id, 1]\n",
        "\n",
        "        # если узел создался и нашлась группа, то спускаемся по дереву дальше, если нет, то создаем терминал.\n",
        "        if best_threshold == None:\n",
        "            self.tree[node_id] = (self.LEAF_TYPE, np.bincount(y).argmax(), np.bincount(y).astype(float) / y.size)\n",
        "        else:\n",
        "            x_l, x_r, y_l, y_r =self.__div_samples(x, y, best_id, best_threshold)\n",
        "            if x_l.size == 0 or x_r.size == 0:\n",
        "                self.tree[node_id] = (self.LEAF_TYPE,np.bincount(y).argmax(),np.bincount(y).astype(float) / y.size)\n",
        "            else:\n",
        "                self.tree[node_id] = (self.NON_LEAF_TYPE,best_id, best_threshold)\n",
        "                self.__fit_node(x_l, y_l,2 * node_id + 1, depth + 1)\n",
        "                self.__fit_node(x_r, y_r, 2 * node_id + 2, depth + 1)\n",
        "            # для последнего этапа. Очевидно, лучше считать здесь. Просто считаем gain лучших фичей и плюсуем\n",
        "            # в feature_importances_ по индексу\n",
        "            # все делаем через numpy для ускорения\n",
        "            if self.G_function == self.__gini:\n",
        "                g=(1 - np.sum(np.unique(y, return_counts=True)[1]** 2 / y.size ** 2))\n",
        "                g_l=(1 - np.sum(np.unique(y_l, return_counts=True)[1] ** 2 / y_l.size ** 2))\n",
        "                g_r=(1 - np.sum(np.unique(y_r, return_counts=True)[1] ** 2 / y_r.size ** 2))\n",
        "                self.feature_importances_[best_id] += (y.size*g - y_l.size*g_l - y_r.size*g_r)/y.size\n",
        "            if self.G_function == self.__entropy:\n",
        "                g=-(np.sum((np.unique(y, return_counts=True)[1] / y.size) * np.log2(np.unique(y, return_counts=True)[1] / y.size)))\n",
        "                g_l=-(np.sum((np.unique(y_l, return_counts=True)[1] / y_l.size) * np.log2(np.unique(y_l, return_counts=True)[1] / y_l.size)))\n",
        "                g_r=-(np.sum((np.unique(y_r, return_counts=True)[1] / y_r.size) * np.log2(np.unique(y_r, return_counts=True)[1] / y_r.size)))\n",
        "                self.feature_importances_[best_id] += (y.size*g - y_l.size*g_l - y_r.size*g_r)/y.size\n",
        "            elif self.G_function == self.__misclass:\n",
        "                g=(1 - np.max(np.sum(np.unique(y, return_counts=True)[1] / y.size)))\n",
        "                g_l=(1 - np.max(np.sum(np.unique(y_l, return_counts=True)[1] / y.size)))\n",
        "                g_r=(1 - np.max(np.sum(np.unique(y_r, return_counts=True)[1] / y.size)))\n",
        "                self.feature_importances_[best_id] += (y.size*g - y_l.size*g_l - y_r.size*g_r)/y.size\n",
        "\n",
        "\n",
        "    def fit(self, x, y):\n",
        "        \"\"\"\n",
        "        Рекурсивно строим дерево решений\n",
        "        Начинаем с корня node_id 0\n",
        "        \"\"\"\n",
        "        self.num_class = np.unique(y).size\n",
        "        self.feature_importances_ = np.zeros(x.shape[1], dtype=float)\n",
        "        self.total = y.size\n",
        "        self.__fit_node(x, y, 0, 0)\n",
        "\n",
        "    def __predict_class(self, x, node_id):\n",
        "        node = self.tree[node_id]\n",
        "        if node[0] == self.__class__.NON_LEAF_TYPE:\n",
        "            _, feature_id, threshold = node\n",
        "            if x[feature_id] > threshold:\n",
        "                return self.__predict_class(x, 2 * node_id + 1)\n",
        "            else:\n",
        "                return self.__predict_class(x, 2 * node_id + 2)\n",
        "        else:\n",
        "            return node[1]\n",
        "\n",
        "    def predict(self, X):\n",
        "        \"\"\"\n",
        "        Вызывает predict для всех объектов из матрицы X\n",
        "        \"\"\"\n",
        "        return np.array([self.__predict_class(x, 0) for x in X])\n",
        "\n",
        "    def fit_predict(self, x_train, y_train, predicted_x):\n",
        "        self.fit(x_train, y_train)\n",
        "        return self.predict(predicted_x)\n",
        "\n",
        "    def get_feature_importance(self):\n",
        "        \"\"\"\n",
        "        Возвращает важность признаков\n",
        "        \"\"\"\n",
        "        # индексы десяти главных фичей\n",
        "        return (self.feature_importances_)"
      ]
    },
    {
      "cell_type": "code",
      "execution_count": 11,
      "metadata": {
        "id": "EEXnMLpdTovA"
      },
      "outputs": [],
      "source": [
        "my_clf = MyDecisionTreeClassifier(min_samples_split=2)\n",
        "clf = DecisionTreeClassifier(min_samples_split=2)"
      ]
    },
    {
      "cell_type": "code",
      "execution_count": 12,
      "metadata": {
        "id": "ozExpfIDTovA"
      },
      "outputs": [],
      "source": [
        "wine = load_wine()\n",
        "X_train, X_test, y_train, y_test = train_test_split(wine.data, wine.target, test_size=0.1, stratify=wine.target)"
      ]
    },
    {
      "cell_type": "code",
      "source": [
        "clf.fit(X_train, y_train)\n",
        "my_clf.fit(X_train, y_train)"
      ],
      "metadata": {
        "id": "vNIDPwQRUj9Z"
      },
      "execution_count": 13,
      "outputs": []
    },
    {
      "cell_type": "code",
      "execution_count": 14,
      "metadata": {
        "colab": {
          "base_uri": "https://localhost:8080/"
        },
        "id": "F0a8MrTATovA",
        "outputId": "465c77bb-41cc-4bfa-e106-8393f25dcf78"
      },
      "outputs": [
        {
          "output_type": "stream",
          "name": "stdout",
          "text": [
            "clf: 0.8888888888888888\n",
            "my_clf: 0.9444444444444444\n"
          ]
        }
      ],
      "source": [
        "print(f'clf: {accuracy_score(y_pred=clf.predict(X_test), y_true=y_test)}')\n",
        "print(f'my_clf: {accuracy_score(y_pred=my_clf.predict(X_test), y_true=y_test)}')"
      ]
    },
    {
      "cell_type": "markdown",
      "metadata": {
        "id": "9mvE1udITovA"
      },
      "source": [
        "Совет: Проверьте, что ваша реализация корректно работает с признаками в которых встречаются повторы.\n",
        "И подумайте, какие еще граничные случаи могут быть.\n",
        "Например, проверьте, что на таком примере ваша модель корректно работает:"
      ]
    },
    {
      "cell_type": "code",
      "execution_count": 15,
      "metadata": {
        "colab": {
          "base_uri": "https://localhost:8080/"
        },
        "id": "Als_aMSTTovA",
        "outputId": "6f98a0e4-1002-4e62-947a-80f91b0d7db5"
      },
      "outputs": [
        {
          "output_type": "stream",
          "name": "stdout",
          "text": [
            "DEPTH: 1 \n",
            "\t\tTree: {0: (1, 0, array([0.5, 0.5]))} [0 0 0 0 0 0 0 0 0 0]\n",
            "DEPTH: 2 \n",
            "\t\tTree: {0: (1, 0, array([0.5, 0.5]))} [0 0 0 0 0 0 0 0 0 0]\n",
            "DEPTH: 3 \n",
            "\t\tTree: {0: (1, 0, array([0.5, 0.5]))} [0 0 0 0 0 0 0 0 0 0]\n",
            "DEPTH: 4 \n",
            "\t\tTree: {0: (1, 0, array([0.5, 0.5]))} [0 0 0 0 0 0 0 0 0 0]\n"
          ]
        }
      ],
      "source": [
        "X = np.array([[1] * 10, [0, 1, 2, 5, 6, 3, 4, 7, 8, 9]]).T\n",
        "y = np.array([0, 0, 0, 0, 0, 1, 1, 1, 1, 1])\n",
        "for depth in range(1, 5):\n",
        "    my_clf = MyDecisionTreeClassifier(max_depth=depth)\n",
        "    my_clf.fit(X, y)\n",
        "    print(\"DEPTH:\", depth, \"\\n\\t\\tTree:\", my_clf.tree, my_clf.predict(X))"
      ]
    },
    {
      "cell_type": "markdown",
      "metadata": {
        "id": "PFfdRx5_TovA"
      },
      "source": [
        "## Ускоряем дерево решений (2 балла)\n",
        "Добиться скорости работы на fit не медленнее чем в 10 раз sklearn на данных wine.\n",
        "Для этого используем numpy."
      ]
    },
    {
      "cell_type": "code",
      "execution_count": 18,
      "metadata": {
        "scrolled": true,
        "colab": {
          "base_uri": "https://localhost:8080/",
          "height": 109
        },
        "id": "neXZIvgJTovA",
        "outputId": "b59efd7c-e8b6-45d4-9262-24a6f227c6b9"
      },
      "outputs": [
        {
          "output_type": "stream",
          "name": "stdout",
          "text": [
            "CPU times: user 2.2 ms, sys: 0 ns, total: 2.2 ms\n",
            "Wall time: 2.23 ms\n"
          ]
        },
        {
          "output_type": "execute_result",
          "data": {
            "text/plain": [
              "DecisionTreeClassifier()"
            ],
            "text/html": [
              "<style>#sk-container-id-2 {color: black;background-color: white;}#sk-container-id-2 pre{padding: 0;}#sk-container-id-2 div.sk-toggleable {background-color: white;}#sk-container-id-2 label.sk-toggleable__label {cursor: pointer;display: block;width: 100%;margin-bottom: 0;padding: 0.3em;box-sizing: border-box;text-align: center;}#sk-container-id-2 label.sk-toggleable__label-arrow:before {content: \"▸\";float: left;margin-right: 0.25em;color: #696969;}#sk-container-id-2 label.sk-toggleable__label-arrow:hover:before {color: black;}#sk-container-id-2 div.sk-estimator:hover label.sk-toggleable__label-arrow:before {color: black;}#sk-container-id-2 div.sk-toggleable__content {max-height: 0;max-width: 0;overflow: hidden;text-align: left;background-color: #f0f8ff;}#sk-container-id-2 div.sk-toggleable__content pre {margin: 0.2em;color: black;border-radius: 0.25em;background-color: #f0f8ff;}#sk-container-id-2 input.sk-toggleable__control:checked~div.sk-toggleable__content {max-height: 200px;max-width: 100%;overflow: auto;}#sk-container-id-2 input.sk-toggleable__control:checked~label.sk-toggleable__label-arrow:before {content: \"▾\";}#sk-container-id-2 div.sk-estimator input.sk-toggleable__control:checked~label.sk-toggleable__label {background-color: #d4ebff;}#sk-container-id-2 div.sk-label input.sk-toggleable__control:checked~label.sk-toggleable__label {background-color: #d4ebff;}#sk-container-id-2 input.sk-hidden--visually {border: 0;clip: rect(1px 1px 1px 1px);clip: rect(1px, 1px, 1px, 1px);height: 1px;margin: -1px;overflow: hidden;padding: 0;position: absolute;width: 1px;}#sk-container-id-2 div.sk-estimator {font-family: monospace;background-color: #f0f8ff;border: 1px dotted black;border-radius: 0.25em;box-sizing: border-box;margin-bottom: 0.5em;}#sk-container-id-2 div.sk-estimator:hover {background-color: #d4ebff;}#sk-container-id-2 div.sk-parallel-item::after {content: \"\";width: 100%;border-bottom: 1px solid gray;flex-grow: 1;}#sk-container-id-2 div.sk-label:hover label.sk-toggleable__label {background-color: #d4ebff;}#sk-container-id-2 div.sk-serial::before {content: \"\";position: absolute;border-left: 1px solid gray;box-sizing: border-box;top: 0;bottom: 0;left: 50%;z-index: 0;}#sk-container-id-2 div.sk-serial {display: flex;flex-direction: column;align-items: center;background-color: white;padding-right: 0.2em;padding-left: 0.2em;position: relative;}#sk-container-id-2 div.sk-item {position: relative;z-index: 1;}#sk-container-id-2 div.sk-parallel {display: flex;align-items: stretch;justify-content: center;background-color: white;position: relative;}#sk-container-id-2 div.sk-item::before, #sk-container-id-2 div.sk-parallel-item::before {content: \"\";position: absolute;border-left: 1px solid gray;box-sizing: border-box;top: 0;bottom: 0;left: 50%;z-index: -1;}#sk-container-id-2 div.sk-parallel-item {display: flex;flex-direction: column;z-index: 1;position: relative;background-color: white;}#sk-container-id-2 div.sk-parallel-item:first-child::after {align-self: flex-end;width: 50%;}#sk-container-id-2 div.sk-parallel-item:last-child::after {align-self: flex-start;width: 50%;}#sk-container-id-2 div.sk-parallel-item:only-child::after {width: 0;}#sk-container-id-2 div.sk-dashed-wrapped {border: 1px dashed gray;margin: 0 0.4em 0.5em 0.4em;box-sizing: border-box;padding-bottom: 0.4em;background-color: white;}#sk-container-id-2 div.sk-label label {font-family: monospace;font-weight: bold;display: inline-block;line-height: 1.2em;}#sk-container-id-2 div.sk-label-container {text-align: center;}#sk-container-id-2 div.sk-container {/* jupyter's `normalize.less` sets `[hidden] { display: none; }` but bootstrap.min.css set `[hidden] { display: none !important; }` so we also need the `!important` here to be able to override the default hidden behavior on the sphinx rendered scikit-learn.org. See: https://github.com/scikit-learn/scikit-learn/issues/21755 */display: inline-block !important;position: relative;}#sk-container-id-2 div.sk-text-repr-fallback {display: none;}</style><div id=\"sk-container-id-2\" class=\"sk-top-container\"><div class=\"sk-text-repr-fallback\"><pre>DecisionTreeClassifier()</pre><b>In a Jupyter environment, please rerun this cell to show the HTML representation or trust the notebook. <br />On GitHub, the HTML representation is unable to render, please try loading this page with nbviewer.org.</b></div><div class=\"sk-container\" hidden><div class=\"sk-item\"><div class=\"sk-estimator sk-toggleable\"><input class=\"sk-toggleable__control sk-hidden--visually\" id=\"sk-estimator-id-2\" type=\"checkbox\" checked><label for=\"sk-estimator-id-2\" class=\"sk-toggleable__label sk-toggleable__label-arrow\">DecisionTreeClassifier</label><div class=\"sk-toggleable__content\"><pre>DecisionTreeClassifier()</pre></div></div></div></div></div>"
            ]
          },
          "metadata": {},
          "execution_count": 18
        }
      ],
      "source": [
        "%time clf.fit(X_train, y_train)"
      ]
    },
    {
      "cell_type": "code",
      "execution_count": 19,
      "metadata": {
        "colab": {
          "base_uri": "https://localhost:8080/"
        },
        "id": "YgVVWz9BTovB",
        "outputId": "d5021cd3-f44f-4719-cefd-93395797b97f"
      },
      "outputs": [
        {
          "output_type": "stream",
          "name": "stdout",
          "text": [
            "CPU times: user 15.2 ms, sys: 0 ns, total: 15.2 ms\n",
            "Wall time: 15.5 ms\n"
          ]
        }
      ],
      "source": [
        "%time my_clf.fit(X_train, y_train)"
      ]
    },
    {
      "cell_type": "markdown",
      "metadata": {
        "id": "uv-K4tP8TovB"
      },
      "source": [
        "## Боевое применение (3 балла)\n",
        "\n",
        "На практике Вы познакомились с датасетом Speed Dating Data. В нем каждая пара в быстрых свиданиях характеризуется определенным набором признаков. Задача -- предсказать, произойдет ли матч пары (колонка match).\n",
        "\n",
        "Данные и описания колонок во вложениях.\n",
        "\n",
        "Пример работы с датасетом можете найти в практике пункт 2\n",
        "https://github.com/VVVikulin/ml1.sphere/blob/master/2019-09/lecture_06/pract-trees.ipynb\n",
        "\n",
        "Либо воспользоваться функцией:"
      ]
    },
    {
      "cell_type": "code",
      "execution_count": 91,
      "metadata": {
        "id": "dM5veNJoTovB"
      },
      "outputs": [],
      "source": [
        "def preprocess_spd_data(df):\n",
        "    df = df.iloc[:, :97]\n",
        "\n",
        "    to_drop = [\n",
        "        'id', 'pid', 'idg', 'condtn', 'round', 'position', 'positin1', 'order', 'partner',\n",
        "        'age_o', 'race_o', 'pf_o_att', 'pf_o_sin', 'pf_o_int', 'pf_o_fun', 'pf_o_amb', 'pf_o_sha',\n",
        "        'dec_o', 'attr_o', 'sinc_o', 'intel_o', 'fun_o', 'amb_o', 'shar_o', 'like_o', 'prob_o','met_o',\n",
        "        'field', 'undergra', 'from', 'zipcode', 'income', 'career', 'sports', 'tvsports', 'exercise',\n",
        "        'dining', 'museums', 'art', 'hiking', 'gaming', 'clubbing', 'reading', 'tv', 'theater', 'movies',\n",
        "        'concerts', 'music', 'shopping', 'yoga', 'expnum',\n",
        "        'mn_sat', 'tuition'\n",
        "    ]\n",
        "\n",
        "    df = df.drop(to_drop, axis=1)\n",
        "    df = df.dropna(subset=['age', 'imprelig', 'imprace', 'date'])\n",
        "\n",
        "    df.loc[:, 'field_cd'] = df.loc[:, 'field_cd'].fillna(19)\n",
        "    df.loc[:, 'career_c'] = df.loc[:, 'career_c'].fillna(18)\n",
        "\n",
        "    # attr1 processing\n",
        "    df.loc[:, 'temp_totalsum'] = df.loc[:, ['attr1_1', 'sinc1_1', 'intel1_1', 'fun1_1',\n",
        "                                            'amb1_1', 'shar1_1']].sum(axis=1)\n",
        "    df.loc[:, ['attr1_1', 'sinc1_1', 'intel1_1', 'fun1_1', 'amb1_1', 'shar1_1']] =\\\n",
        "    (df.loc[:, ['attr1_1', 'sinc1_1', 'intel1_1', 'fun1_1', 'amb1_1', 'shar1_1']].T /\n",
        "     df.loc[:, 'temp_totalsum'].T).T * 100\n",
        "\n",
        "    # attr2 processing\n",
        "    df.loc[:, 'temp_totalsum'] = df.loc[:, ['attr2_1', 'sinc2_1', 'intel2_1', 'fun2_1',\n",
        "                                            'amb2_1', 'shar2_1']].sum(axis=1)\n",
        "    df.loc[:, ['attr2_1', 'sinc2_1', 'intel2_1', 'fun2_1', 'amb2_1', 'shar2_1']] =\\\n",
        "    (df.loc[:, ['attr2_1', 'sinc2_1', 'intel2_1', 'fun2_1', 'amb2_1', 'shar2_1']].T /\n",
        "     df.loc[:, 'temp_totalsum'].T).T * 100\n",
        "    df = df.drop(['temp_totalsum'], axis=1)\n",
        "\n",
        "    for i in [4, 5]:\n",
        "        feat = ['attr{}_1'.format(i), 'sinc{}_1'.format(i),\n",
        "                'intel{}_1'.format(i), 'fun{}_1'.format(i),\n",
        "                'amb{}_1'.format(i), 'shar{}_1'.format(i)]\n",
        "\n",
        "        if i != 4:\n",
        "            feat.remove('shar{}_1'.format(i))\n",
        "\n",
        "        df = df.drop(feat, axis=1)\n",
        "\n",
        "    df = df.drop(['wave'], axis=1)\n",
        "    df = df.dropna()\n",
        "    return df"
      ]
    },
    {
      "cell_type": "markdown",
      "metadata": {
        "id": "1pJ9o5aETovB"
      },
      "source": [
        "Скачайте датасет, обработайте данные, как показано на семинаре или своим собственным способом. Обучите дерево классифкации. В качестве таргета возьмите колонку 'match'. Постарайтесь хорошо обработать признаки, чтобы выбить максимальную точность. Если точность будет близка к случайному гаданию, задание не будет защитано. В качестве метрики можно взять roc-auc.\n"
      ]
    },
    {
      "cell_type": "code",
      "execution_count": 92,
      "metadata": {
        "id": "gcqMA7laTovB"
      },
      "outputs": [],
      "source": [
        "df = pd.read_csv('/content/Speed_Dating_Data.csv', encoding='latin1')"
      ]
    },
    {
      "cell_type": "code",
      "source": [
        "df = preprocess_spd_data(df)"
      ],
      "metadata": {
        "id": "XNrYHTSXT_gF"
      },
      "execution_count": 93,
      "outputs": []
    },
    {
      "cell_type": "code",
      "source": [
        "df_X,df_y = df.drop(['match'], axis=1, inplace=False), df.match\n",
        "X,y = df_X.to_numpy(), df_y.to_numpy()"
      ],
      "metadata": {
        "id": "vBoAoZBIUVUY"
      },
      "execution_count": 94,
      "outputs": []
    },
    {
      "cell_type": "code",
      "source": [
        "X_train, X_test, y_train, y_test = train_test_split(X, y, test_size=0.1, shuffle=True, random_state=42)\n",
        "\n",
        "my_clf = MyDecisionTreeClassifier(min_samples_split=5, max_depth=5, criterion='gini')\n",
        "clf = DecisionTreeClassifier(min_samples_split=5, max_depth=5, criterion='gini') #чтобы установить равные условия\n",
        "\n",
        "clf.fit(X_train, y_train)\n",
        "my_clf.fit(X_train, y_train)"
      ],
      "metadata": {
        "id": "FjSY0a6-aHCH"
      },
      "execution_count": 83,
      "outputs": []
    },
    {
      "cell_type": "code",
      "source": [
        "y_pred_clf = clf.predict(X_test)\n",
        "y_pred_my_clf = my_clf.predict(X_test)\n",
        "\n",
        "accuracy_clf = accuracy_score(y_pred=y_pred_clf, y_true=y_test)\n",
        "accuracy_my_clf = accuracy_score(y_pred=y_pred_my_clf, y_true=y_test)\n",
        "\n",
        "roc_auc_clf = roc_auc_score(y_true=y_test, y_score=y_pred_clf)\n",
        "roc_auc_my_clf = roc_auc_score(y_true=y_test, y_score=y_pred_my_clf)\n",
        "\n",
        "print(f'clf - Accuracy: {accuracy_clf}, ROC-AUC: {roc_auc_clf}')\n",
        "print(f'my_clf - Accuracy: {accuracy_my_clf}, ROC-AUC: {roc_auc_my_clf}')"
      ],
      "metadata": {
        "colab": {
          "base_uri": "https://localhost:8080/"
        },
        "id": "V-vHIlqNagAN",
        "outputId": "8f26cf98-9387-4389-aadf-3b2e8773e7c4"
      },
      "execution_count": 84,
      "outputs": [
        {
          "output_type": "stream",
          "name": "stdout",
          "text": [
            "clf - Accuracy: 0.8286066584463625, ROC-AUC: 0.501619091977732\n",
            "my_clf - Accuracy: 0.8323057953144266, ROC-AUC: 0.5068534167276598\n"
          ]
        }
      ]
    },
    {
      "cell_type": "markdown",
      "metadata": {
        "id": "cuZMIb0tTovB"
      },
      "source": [
        "Разбейте датасет на трейн и валидацию. Подберите на валидации оптимальный критерий  информативности.\n",
        "Постройте графики зависимости точности на валидации и трейне от глубины дерева, от минимального числа объектов для сплита. (Т.е должно быть 2 графика, на каждой должны быть 2 кривые - для трейна и валидации)\n",
        "Какой максимальной точности удалось достигнуть?"
      ]
    },
    {
      "cell_type": "code",
      "execution_count": 63,
      "metadata": {
        "collapsed": true,
        "jupyter": {
          "outputs_hidden": true
        },
        "id": "ADpodTk6TovB"
      },
      "outputs": [],
      "source": [
        "samples=range(1, 55, 3)\n",
        "criterions=['gini','entropy','class_error']\n",
        "depths=range(1, 25, 2)"
      ]
    },
    {
      "cell_type": "code",
      "execution_count": 71,
      "metadata": {
        "collapsed": true,
        "jupyter": {
          "outputs_hidden": true
        },
        "colab": {
          "base_uri": "https://localhost:8080/",
          "height": 49,
          "referenced_widgets": [
            "5373c4b7ce8140c981f914a464f48ac1",
            "858470882c3942b382cc7372d7fbcd58",
            "33ac791f6f0f4cbe9638d7074fb3d8b8",
            "2f7a4c6e3f8d43a18c03bccf1edf84d8",
            "ba3ccfa4d3fd43828f9b0368d4e85e40",
            "889f0978b0b74c98b74777c25cb7440f",
            "60d628a273a84771ab55af945bd9fb6b",
            "0b21feeb910b460194dd9e786a181786",
            "223283327aa74f6c91f488233bc08534",
            "8cb4e12a16944fc1bfbb299394729530",
            "c5db5614577e40cf86ffa713b81211c7"
          ]
        },
        "id": "genoNpx1TovB",
        "outputId": "31581e57-4796-4dbc-894e-2ed7af117aa9"
      },
      "outputs": [
        {
          "output_type": "display_data",
          "data": {
            "text/plain": [
              "  0%|          | 0/3 [00:00<?, ?it/s]"
            ],
            "application/vnd.jupyter.widget-view+json": {
              "version_major": 2,
              "version_minor": 0,
              "model_id": "5373c4b7ce8140c981f914a464f48ac1"
            }
          },
          "metadata": {}
        }
      ],
      "source": [
        "# будем смотреть на f1 меру, чтобы оптимизировать и recall и precision\n",
        "max_criterions=[]\n",
        "for criterion in tqdm(criterions):\n",
        "    my_clf = MyDecisionTreeClassifier(criterion=criterion)\n",
        "    my_clf.fit(X_train, y_train)\n",
        "    valid=cross_val_score(my_clf, X_train, y_train, cv=5, scoring=\"f1\").mean()\n",
        "    max_criterions.append(valid)"
      ]
    },
    {
      "cell_type": "code",
      "source": [
        "max_criterions"
      ],
      "metadata": {
        "colab": {
          "base_uri": "https://localhost:8080/"
        },
        "id": "JT0jahMSelFc",
        "outputId": "a96e3e58-6d71-4f56-b318-5c17388f7c46"
      },
      "execution_count": 72,
      "outputs": [
        {
          "output_type": "execute_result",
          "data": {
            "text/plain": [
              "[0.02074729122618138, 0.0033195592286501376, 0.011316548649357461]"
            ]
          },
          "metadata": {},
          "execution_count": 72
        }
      ]
    },
    {
      "cell_type": "code",
      "source": [
        "max_criterion=criterions[np.argmax(max_criterions)]\n",
        "print(f'Max criterion: {max_criterion}')"
      ],
      "metadata": {
        "colab": {
          "base_uri": "https://localhost:8080/"
        },
        "id": "Uvufzv01cpij",
        "outputId": "0c6092cd-caf2-4f25-e7cf-b234eb48ac41"
      },
      "execution_count": 73,
      "outputs": [
        {
          "output_type": "stream",
          "name": "stdout",
          "text": [
            "Max criterion: gini\n"
          ]
        }
      ]
    },
    {
      "cell_type": "markdown",
      "metadata": {
        "id": "4zwnVx6XTovB"
      },
      "source": [
        "Известным фактом является то, что деревья решений сильно переобучаются при увеличении глубины и просто запоминают трейн.\n",
        "Замечаете ли вы такой эффект судя по графикам? Что при этом происходит с качеством на валидации?"
      ]
    },
    {
      "cell_type": "code",
      "source": [
        "from joblib import Parallel, delayed\n",
        "\n",
        "max_score = 0\n",
        "max_sample = 0\n",
        "max_depth = 0\n",
        "\n",
        "def evaluate(sample, depth, X_train, y_train):\n",
        "    my_clf = MyDecisionTreeClassifier(min_samples_split=sample, max_depth=depth, criterion=max_criterion)\n",
        "    my_clf.fit(X_train, y_train)\n",
        "    valid = cross_val_score(my_clf, X_train, y_train, cv=5, scoring=\"f1\").mean()\n",
        "    return valid, sample, depth\n",
        "\n",
        "\n",
        "\n",
        "results = Parallel(n_jobs=-1)(delayed(evaluate)(sample, depth, X_train, y_train) for sample in tqdm(samples) for depth in depths)\n",
        "\n",
        "\n",
        "for valid, sample, depth in results:\n",
        "    if valid > max_score:\n",
        "        max_score = valid\n",
        "        max_sample = sample\n",
        "        max_depth = depth\n",
        "\n",
        "print(f\"Max Score: {max_score}, Max Sample: {max_sample}, Max Depth: {max_depth}\")\n"
      ],
      "metadata": {
        "colab": {
          "base_uri": "https://localhost:8080/",
          "height": 66,
          "referenced_widgets": [
            "da947ea241d848008033aef710ccfb0b",
            "9967696e82d34160947d7841dd153886",
            "9c33c8afcf42487d82f03b11a175426a",
            "c73db7567c30417a87b2eeaf92012152",
            "2f57ebf57dbe4adeab8e7b6fa08d9ce8",
            "5e68a390354643559f68320fd11c9762",
            "52aeabbe29414b43b5deeb4199eaf679",
            "0686ce16de8449b688da82220432e0a1",
            "42df5540a71e415a896e4c5c1f384cdb",
            "94c7d2f2bd2d4ff18ac27e807275522b",
            "a55be610c6fd4dcc9b9fd4f38962d2a5"
          ]
        },
        "id": "RXoHplJGh6GY",
        "outputId": "f087fe3d-efd8-4cb7-f787-30042312f988"
      },
      "execution_count": null,
      "outputs": [
        {
          "output_type": "display_data",
          "data": {
            "text/plain": [
              "  0%|          | 0/18 [00:00<?, ?it/s]"
            ],
            "application/vnd.jupyter.widget-view+json": {
              "version_major": 2,
              "version_minor": 0,
              "model_id": "da947ea241d848008033aef710ccfb0b"
            }
          },
          "metadata": {}
        },
        {
          "output_type": "stream",
          "name": "stdout",
          "text": [
            "Max Score: 0.10709583034533644, Max Sample: 16, Max Depth: 13\n"
          ]
        }
      ]
    },
    {
      "cell_type": "code",
      "source": [
        "score_train_auc=[]\n",
        "score_valid_auc=[]\n",
        "score_train_roc=[]\n",
        "score_valid_roc=[]\n",
        "params=range(1, 35, 2)\n",
        "for n in params:\n",
        "    model = MyDecisionTreeClassifier(min_samples_split=2, max_depth=n, criterion='gini')\n",
        "    model.fit(X_train, y_train)\n",
        "    score_train_auc.append(accuracy_score(y_pred=model.predict(X_train), y_true=y_train))\n",
        "    score_valid_auc.append(accuracy_score(y_pred=model.predict(X_test), y_true=y_test))\n",
        "    score_train_roc.append(roc_auc_score(y_true=y_train, y_score=model.predict(X_train)))\n",
        "    score_valid_roc.append(roc_auc_score(y_true=y_test, y_score=model.predict(X_test)))\n",
        "plt.plot(params, score_train_auc, label='train_auc')\n",
        "plt.plot(params, score_valid_auc, label='valid_auc')\n",
        "plt.legend()\n",
        "plt.title('Max_depth Auc')\n",
        "plt.show()\n",
        "plt.plot(params, score_train_roc, label='train_roc')\n",
        "plt.plot(params, score_valid_roc, label='valid_roc')\n",
        "plt.title('Max_depth Roc')\n",
        "plt.show()\n",
        "\n",
        "score_train_auc=[]\n",
        "score_valid_auc=[]\n",
        "score_train_roc=[]\n",
        "score_valid_roc=[]\n",
        "params=range(1, 50, 5)\n",
        "for n in params:\n",
        "    model = MyDecisionTreeClassifier(min_samples_split=n, max_depth=5, criterion='gini')\n",
        "    model.fit(X_train, y_train)\n",
        "    score_train_auc.append(accuracy_score(y_pred=model.predict(X_train), y_true=y_train))\n",
        "    score_valid_auc.append(accuracy_score(y_pred=model.predict(X_test), y_true=y_test))\n",
        "    score_train_roc.append(roc_auc_score(y_true=y_train, y_score=model.predict(X_train)))\n",
        "    score_valid_roc.append(roc_auc_score(y_true=y_test, y_score=model.predict(X_test)))\n",
        "plt.plot(params, score_train_auc, label='train_auc')\n",
        "plt.plot(params, score_valid_auc, label='valid_auc')\n",
        "plt.legend()\n",
        "plt.title('Min_samples_split Auc')\n",
        "plt.show()\n",
        "plt.plot(params, score_train_roc, label='train_roc')\n",
        "plt.plot(params, score_valid_roc, label='valid_roc')\n",
        "plt.legend()\n",
        "plt.title('Min_samples_split Roc')\n",
        "plt.show()"
      ],
      "metadata": {
        "colab": {
          "base_uri": "https://localhost:8080/",
          "height": 1000
        },
        "id": "j-h3OvejWwsY",
        "outputId": "22143f79-8008-452e-ae88-5346c44588c6"
      },
      "execution_count": 80,
      "outputs": [
        {
          "output_type": "display_data",
          "data": {
            "text/plain": [
              "<Figure size 640x480 with 1 Axes>"
            ],
            "image/png": "[encoded data removed]"
          },
          "metadata": {}
        },
        {
          "output_type": "display_data",
          "data": {
            "text/plain": [
              "<Figure size 640x480 with 1 Axes>"
            ],
            "image/png": "[encoded data removed]"
          },
          "metadata": {}
        },
        {
          "output_type": "display_data",
          "data": {
            "text/plain": [
              "<Figure size 640x480 with 1 Axes>"
            ],
            "image/png": "[encoded data removed]"
          },
          "metadata": {}
        },
        {
          "output_type": "display_data",
          "data": {
            "text/plain": [
              "<Figure size 640x480 with 1 Axes>"
            ],
            "image/png": "[encoded data removed]"
          },
          "metadata": {}
        }
      ]
    },
    {
      "cell_type": "code",
      "source": [
        "my_clf = MyDecisionTreeClassifier(min_samples_split=10, max_depth=7, criterion='gini')\n",
        "my_clf.fit(X_train, y_train)\n",
        "print(roc_auc_score(y_true=y_train, y_score=model.predict(X_train)))\n",
        "\n",
        "print(accuracy_score(y_pred=my_clf.predict(X_test), y_true=y_test))"
      ],
      "metadata": {
        "colab": {
          "base_uri": "https://localhost:8080/"
        },
        "id": "GZIrACB6duG3",
        "outputId": "ae7f62bf-49d1-4366-e4b7-30df60b5c28f"
      },
      "execution_count": 85,
      "outputs": [
        {
          "output_type": "stream",
          "name": "stdout",
          "text": [
            "0.5154022648344517\n",
            "0.8310727496917386\n"
          ]
        }
      ]
    },
    {
      "cell_type": "markdown",
      "source": [
        "Как видно по графикам дерево действительно переобучается с увеличением глубины и при этом качество при обучении растет а на валидации падает."
      ],
      "metadata": {
        "id": "JkXOmeepn12s"
      }
    },
    {
      "cell_type": "markdown",
      "metadata": {
        "id": "2EWHiCO6TovC"
      },
      "source": [
        "## Находим самые важные признаки (2 балла)\n",
        "\n"
      ]
    },
    {
      "cell_type": "markdown",
      "metadata": {
        "id": "-yH9Hm-ZTovC"
      },
      "source": [
        "По построенному дереву  легко понять, какие признаки лучше всего помогли решить задачу. Часто это бывает нужно  не только  для сокращения размерности в данных, но и для лучшего понимания прикладной задачи. Например, Вы хотите понять, какие признаки стоит еще конструировать -- для этого нужно понимать, какие из текущих лучше всего работают в дереве."
      ]
    },
    {
      "cell_type": "markdown",
      "metadata": {
        "id": "LJqwsRmhTovC"
      },
      "source": [
        "Самый простой метод -- посчитать число сплитов, где использовался данные признак. Это не лучший вариант, так как по признаку который принимает всего 2 значения, но который почти точно разделяет выборку, число сплитов будет очень 1, но при этом признак сам очень хороший.\n",
        "В этом задании предлагается для каждого признака считать суммарный gain (в лекции обозначено как Q) при использовании этого признака в сплите. Тогда даже у очень хороших признаков с маленьким число сплитов это значение должно быть довольно высоким.  "
      ]
    },
    {
      "cell_type": "markdown",
      "metadata": {
        "id": "ypdk4odaTovC"
      },
      "source": [
        "Реализовать это довольно просто: создаете словарь номер фичи : суммарный гейн и добавляете в нужную фичу каждый раз, когда используете ее при построении дерева."
      ]
    },
    {
      "cell_type": "markdown",
      "metadata": {
        "id": "EyeORss2TovC"
      },
      "source": [
        "Добавьте функционал, который определяет значения feature importance. Обучите дерево на датасете Speed Dating Data.\n",
        "Выведите 10 главных фичей по важности."
      ]
    },
    {
      "cell_type": "code",
      "source": [
        "my_clf = MyDecisionTreeClassifier(min_samples_split=5, max_depth=5, criterion='gini')\n",
        "my_clf.fit(X_train, y_train)\n",
        "\n",
        "feature_importance = list(zip(df_X.columns, my_clf.get_feature_importance()))\n",
        "\n",
        "feature_importance.sort(key=lambda x: x[1], reverse=True)\n",
        "\n",
        "for feature, importance in feature_importance[:10]:\n",
        "    print(f\"{feature}: {importance}\")"
      ],
      "metadata": {
        "colab": {
          "base_uri": "https://localhost:8080/"
        },
        "id": "GNXL92ROpPiN",
        "outputId": "d13e2e53-e3a8-4d4e-e477-498b76710e16"
      },
      "execution_count": 95,
      "outputs": [
        {
          "output_type": "stream",
          "name": "stdout",
          "text": [
            "field_cd: 0.2484908638292614\n",
            "int_corr: 0.2117171406342603\n",
            "intel2_1: 0.08081678940956656\n",
            "shar1_1: 0.07138677779862804\n",
            "attr1_1: 0.0679730672126522\n",
            "imprelig: 0.04542048304301262\n",
            "shar2_1: 0.007342077787624671\n",
            "race: 0.004281778827233298\n",
            "attr2_1: 0.0032610892416312445\n",
            "go_out: 0.0011960915107984281\n"
          ]
        }
      ]
    },
    {
      "cell_type": "markdown",
      "source": [
        "Результаты интересные и в целом похожие на правду."
      ],
      "metadata": {
        "id": "jOmZiBI9phW4"
      }
    },
    {
      "cell_type": "markdown",
      "metadata": {
        "id": "l6Bc28iMTovC"
      },
      "source": [
        "## Фидбек (бесценно)"
      ]
    },
    {
      "cell_type": "markdown",
      "metadata": {
        "id": "JMlIb0O3TovC"
      },
      "source": [
        "* Какие аспекты обучения деревьев решений Вам показались непонятными? Какое место стоит дополнительно объяснить?"
      ]
    },
    {
      "cell_type": "markdown",
      "metadata": {
        "id": "5yS6Yd-vTovC"
      },
      "source": [
        "### Ваш ответ здесь"
      ]
    },
    {
      "cell_type": "markdown",
      "metadata": {
        "id": "zd-D2141TovC"
      },
      "source": [
        "*  Еще немного подробнее хотел бы услышать про максимизацию функционала, а также обработку данных для деревьев. А так в целом много времени потратил на оптимизацию с помощью np. но в целом это вроде нужно, хотя и есть готовые методы. Ну и обучается для оценки параметров, очень долго, поэтому не смог оценить параметры и провести исследование в той мере, в которой хотел."
      ]
    },
    {
      "cell_type": "markdown",
      "metadata": {
        "id": "CEjHxbBATovC"
      },
      "source": [
        "### ВАШ ОТЗЫВ ЗДЕСЬ\n",
        "\n"
      ]
    }
  ],
  "metadata": {
    "anaconda-cloud": {},
    "kernelspec": {
      "display_name": "Python 3 (ipykernel)",
      "language": "python",
      "name": "python3"
    },
    "language_info": {
      "codemirror_mode": {
        "name": "ipython",
        "version": 3
      },
      "file_extension": ".py",
      "mimetype": "text/x-python",
      "name": "python",
      "nbconvert_exporter": "python",
      "pygments_lexer": "ipython3",
      "version": "3.11.6"
    },
    "colab": {
      "provenance": []
    },
    "widgets": {
      "application/vnd.jupyter.widget-state+json": {
        "da947ea241d848008033aef710ccfb0b": {
          "model_module": "@jupyter-widgets/controls",
          "model_name": "HBoxModel",
          "model_module_version": "1.5.0",
          "state": {
            "_dom_classes": [],
            "_model_module": "@jupyter-widgets/controls",
            "_model_module_version": "1.5.0",
            "_model_name": "HBoxModel",
            "_view_count": null,
            "_view_module": "@jupyter-widgets/controls",
            "_view_module_version": "1.5.0",
            "_view_name": "HBoxView",
            "box_style": "",
            "children": [
              "IPY_MODEL_9967696e82d34160947d7841dd153886",
              "IPY_MODEL_9c33c8afcf42487d82f03b11a175426a",
              "IPY_MODEL_c73db7567c30417a87b2eeaf92012152"
            ],
            "layout": "IPY_MODEL_2f57ebf57dbe4adeab8e7b6fa08d9ce8"
          }
        },
        "9967696e82d34160947d7841dd153886": {
          "model_module": "@jupyter-widgets/controls",
          "model_name": "HTMLModel",
          "model_module_version": "1.5.0",
          "state": {
            "_dom_classes": [],
            "_model_module": "@jupyter-widgets/controls",
            "_model_module_version": "1.5.0",
            "_model_name": "HTMLModel",
            "_view_count": null,
            "_view_module": "@jupyter-widgets/controls",
            "_view_module_version": "1.5.0",
            "_view_name": "HTMLView",
            "description": "",
            "description_tooltip": null,
            "layout": "IPY_MODEL_5e68a390354643559f68320fd11c9762",
            "placeholder": "​",
            "style": "IPY_MODEL_52aeabbe29414b43b5deeb4199eaf679",
            "value": "100%"
          }
        },
        "9c33c8afcf42487d82f03b11a175426a": {
          "model_module": "@jupyter-widgets/controls",
          "model_name": "FloatProgressModel",
          "model_module_version": "1.5.0",
          "state": {
            "_dom_classes": [],
            "_model_module": "@jupyter-widgets/controls",
            "_model_module_version": "1.5.0",
            "_model_name": "FloatProgressModel",
            "_view_count": null,
            "_view_module": "@jupyter-widgets/controls",
            "_view_module_version": "1.5.0",
            "_view_name": "ProgressView",
            "bar_style": "success",
            "description": "",
            "description_tooltip": null,
            "layout": "IPY_MODEL_0686ce16de8449b688da82220432e0a1",
            "max": 18,
            "min": 0,
            "orientation": "horizontal",
            "style": "IPY_MODEL_42df5540a71e415a896e4c5c1f384cdb",
            "value": 18
          }
        },
        "c73db7567c30417a87b2eeaf92012152": {
          "model_module": "@jupyter-widgets/controls",
          "model_name": "HTMLModel",
          "model_module_version": "1.5.0",
          "state": {
            "_dom_classes": [],
            "_model_module": "@jupyter-widgets/controls",
            "_model_module_version": "1.5.0",
            "_model_name": "HTMLModel",
            "_view_count": null,
            "_view_module": "@jupyter-widgets/controls",
            "_view_module_version": "1.5.0",
            "_view_name": "HTMLView",
            "description": "",
            "description_tooltip": null,
            "layout": "IPY_MODEL_94c7d2f2bd2d4ff18ac27e807275522b",
            "placeholder": "​",
            "style": "IPY_MODEL_a55be610c6fd4dcc9b9fd4f38962d2a5",
            "value": " 18/18 [10:22&lt;00:00, 29.84s/it]"
          }
        },
        "2f57ebf57dbe4adeab8e7b6fa08d9ce8": {
          "model_module": "@jupyter-widgets/base",
          "model_name": "LayoutModel",
          "model_module_version": "1.2.0",
          "state": {
            "_model_module": "@jupyter-widgets/base",
            "_model_module_version": "1.2.0",
            "_model_name": "LayoutModel",
            "_view_count": null,
            "_view_module": "@jupyter-widgets/base",
            "_view_module_version": "1.2.0",
            "_view_name": "LayoutView",
            "align_content": null,
            "align_items": null,
            "align_self": null,
            "border": null,
            "bottom": null,
            "display": null,
            "flex": null,
            "flex_flow": null,
            "grid_area": null,
            "grid_auto_columns": null,
            "grid_auto_flow": null,
            "grid_auto_rows": null,
            "grid_column": null,
            "grid_gap": null,
            "grid_row": null,
            "grid_template_areas": null,
            "grid_template_columns": null,
            "grid_template_rows": null,
            "height": null,
            "justify_content": null,
            "justify_items": null,
            "left": null,
            "margin": null,
            "max_height": null,
            "max_width": null,
            "min_height": null,
            "min_width": null,
            "object_fit": null,
            "object_position": null,
            "order": null,
            "overflow": null,
            "overflow_x": null,
            "overflow_y": null,
            "padding": null,
            "right": null,
            "top": null,
            "visibility": null,
            "width": null
          }
        },
        "5e68a390354643559f68320fd11c9762": {
          "model_module": "@jupyter-widgets/base",
          "model_name": "LayoutModel",
          "model_module_version": "1.2.0",
          "state": {
            "_model_module": "@jupyter-widgets/base",
            "_model_module_version": "1.2.0",
            "_model_name": "LayoutModel",
            "_view_count": null,
            "_view_module": "@jupyter-widgets/base",
            "_view_module_version": "1.2.0",
            "_view_name": "LayoutView",
            "align_content": null,
            "align_items": null,
            "align_self": null,
            "border": null,
            "bottom": null,
            "display": null,
            "flex": null,
            "flex_flow": null,
            "grid_area": null,
            "grid_auto_columns": null,
            "grid_auto_flow": null,
            "grid_auto_rows": null,
            "grid_column": null,
            "grid_gap": null,
            "grid_row": null,
            "grid_template_areas": null,
            "grid_template_columns": null,
            "grid_template_rows": null,
            "height": null,
            "justify_content": null,
            "justify_items": null,
            "left": null,
            "margin": null,
            "max_height": null,
            "max_width": null,
            "min_height": null,
            "min_width": null,
            "object_fit": null,
            "object_position": null,
            "order": null,
            "overflow": null,
            "overflow_x": null,
            "overflow_y": null,
            "padding": null,
            "right": null,
            "top": null,
            "visibility": null,
            "width": null
          }
        },
        "52aeabbe29414b43b5deeb4199eaf679": {
          "model_module": "@jupyter-widgets/controls",
          "model_name": "DescriptionStyleModel",
          "model_module_version": "1.5.0",
          "state": {
            "_model_module": "@jupyter-widgets/controls",
            "_model_module_version": "1.5.0",
            "_model_name": "DescriptionStyleModel",
            "_view_count": null,
            "_view_module": "@jupyter-widgets/base",
            "_view_module_version": "1.2.0",
            "_view_name": "StyleView",
            "description_width": ""
          }
        },
        "0686ce16de8449b688da82220432e0a1": {
          "model_module": "@jupyter-widgets/base",
          "model_name": "LayoutModel",
          "model_module_version": "1.2.0",
          "state": {
            "_model_module": "@jupyter-widgets/base",
            "_model_module_version": "1.2.0",
            "_model_name": "LayoutModel",
            "_view_count": null,
            "_view_module": "@jupyter-widgets/base",
            "_view_module_version": "1.2.0",
            "_view_name": "LayoutView",
            "align_content": null,
            "align_items": null,
            "align_self": null,
            "border": null,
            "bottom": null,
            "display": null,
            "flex": null,
            "flex_flow": null,
            "grid_area": null,
            "grid_auto_columns": null,
            "grid_auto_flow": null,
            "grid_auto_rows": null,
            "grid_column": null,
            "grid_gap": null,
            "grid_row": null,
            "grid_template_areas": null,
            "grid_template_columns": null,
            "grid_template_rows": null,
            "height": null,
            "justify_content": null,
            "justify_items": null,
            "left": null,
            "margin": null,
            "max_height": null,
            "max_width": null,
            "min_height": null,
            "min_width": null,
            "object_fit": null,
            "object_position": null,
            "order": null,
            "overflow": null,
            "overflow_x": null,
            "overflow_y": null,
            "padding": null,
            "right": null,
            "top": null,
            "visibility": null,
            "width": null
          }
        },
        "42df5540a71e415a896e4c5c1f384cdb": {
          "model_module": "@jupyter-widgets/controls",
          "model_name": "ProgressStyleModel",
          "model_module_version": "1.5.0",
          "state": {
            "_model_module": "@jupyter-widgets/controls",
            "_model_module_version": "1.5.0",
            "_model_name": "ProgressStyleModel",
            "_view_count": null,
            "_view_module": "@jupyter-widgets/base",
            "_view_module_version": "1.2.0",
            "_view_name": "StyleView",
            "bar_color": null,
            "description_width": ""
          }
        },
        "94c7d2f2bd2d4ff18ac27e807275522b": {
          "model_module": "@jupyter-widgets/base",
          "model_name": "LayoutModel",
          "model_module_version": "1.2.0",
          "state": {
            "_model_module": "@jupyter-widgets/base",
            "_model_module_version": "1.2.0",
            "_model_name": "LayoutModel",
            "_view_count": null,
            "_view_module": "@jupyter-widgets/base",
            "_view_module_version": "1.2.0",
            "_view_name": "LayoutView",
            "align_content": null,
            "align_items": null,
            "align_self": null,
            "border": null,
            "bottom": null,
            "display": null,
            "flex": null,
            "flex_flow": null,
            "grid_area": null,
            "grid_auto_columns": null,
            "grid_auto_flow": null,
            "grid_auto_rows": null,
            "grid_column": null,
            "grid_gap": null,
            "grid_row": null,
            "grid_template_areas": null,
            "grid_template_columns": null,
            "grid_template_rows": null,
            "height": null,
            "justify_content": null,
            "justify_items": null,
            "left": null,
            "margin": null,
            "max_height": null,
            "max_width": null,
            "min_height": null,
            "min_width": null,
            "object_fit": null,
            "object_position": null,
            "order": null,
            "overflow": null,
            "overflow_x": null,
            "overflow_y": null,
            "padding": null,
            "right": null,
            "top": null,
            "visibility": null,
            "width": null
          }
        },
        "a55be610c6fd4dcc9b9fd4f38962d2a5": {
          "model_module": "@jupyter-widgets/controls",
          "model_name": "DescriptionStyleModel",
          "model_module_version": "1.5.0",
          "state": {
            "_model_module": "@jupyter-widgets/controls",
            "_model_module_version": "1.5.0",
            "_model_name": "DescriptionStyleModel",
            "_view_count": null,
            "_view_module": "@jupyter-widgets/base",
            "_view_module_version": "1.2.0",
            "_view_name": "StyleView",
            "description_width": ""
          }
        },
        "5373c4b7ce8140c981f914a464f48ac1": {
          "model_module": "@jupyter-widgets/controls",
          "model_name": "HBoxModel",
          "model_module_version": "1.5.0",
          "state": {
            "_dom_classes": [],
            "_model_module": "@jupyter-widgets/controls",
            "_model_module_version": "1.5.0",
            "_model_name": "HBoxModel",
            "_view_count": null,
            "_view_module": "@jupyter-widgets/controls",
            "_view_module_version": "1.5.0",
            "_view_name": "HBoxView",
            "box_style": "",
            "children": [
              "IPY_MODEL_858470882c3942b382cc7372d7fbcd58",
              "IPY_MODEL_33ac791f6f0f4cbe9638d7074fb3d8b8",
              "IPY_MODEL_2f7a4c6e3f8d43a18c03bccf1edf84d8"
            ],
            "layout": "IPY_MODEL_ba3ccfa4d3fd43828f9b0368d4e85e40"
          }
        },
        "858470882c3942b382cc7372d7fbcd58": {
          "model_module": "@jupyter-widgets/controls",
          "model_name": "HTMLModel",
          "model_module_version": "1.5.0",
          "state": {
            "_dom_classes": [],
            "_model_module": "@jupyter-widgets/controls",
            "_model_module_version": "1.5.0",
            "_model_name": "HTMLModel",
            "_view_count": null,
            "_view_module": "@jupyter-widgets/controls",
            "_view_module_version": "1.5.0",
            "_view_name": "HTMLView",
            "description": "",
            "description_tooltip": null,
            "layout": "IPY_MODEL_889f0978b0b74c98b74777c25cb7440f",
            "placeholder": "​",
            "style": "IPY_MODEL_60d628a273a84771ab55af945bd9fb6b",
            "value": "100%"
          }
        },
        "33ac791f6f0f4cbe9638d7074fb3d8b8": {
          "model_module": "@jupyter-widgets/controls",
          "model_name": "FloatProgressModel",
          "model_module_version": "1.5.0",
          "state": {
            "_dom_classes": [],
            "_model_module": "@jupyter-widgets/controls",
            "_model_module_version": "1.5.0",
            "_model_name": "FloatProgressModel",
            "_view_count": null,
            "_view_module": "@jupyter-widgets/controls",
            "_view_module_version": "1.5.0",
            "_view_name": "ProgressView",
            "bar_style": "success",
            "description": "",
            "description_tooltip": null,
            "layout": "IPY_MODEL_0b21feeb910b460194dd9e786a181786",
            "max": 3,
            "min": 0,
            "orientation": "horizontal",
            "style": "IPY_MODEL_223283327aa74f6c91f488233bc08534",
            "value": 3
          }
        },
        "2f7a4c6e3f8d43a18c03bccf1edf84d8": {
          "model_module": "@jupyter-widgets/controls",
          "model_name": "HTMLModel",
          "model_module_version": "1.5.0",
          "state": {
            "_dom_classes": [],
            "_model_module": "@jupyter-widgets/controls",
            "_model_module_version": "1.5.0",
            "_model_name": "HTMLModel",
            "_view_count": null,
            "_view_module": "@jupyter-widgets/controls",
            "_view_module_version": "1.5.0",
            "_view_name": "HTMLView",
            "description": "",
            "description_tooltip": null,
            "layout": "IPY_MODEL_8cb4e12a16944fc1bfbb299394729530",
            "placeholder": "​",
            "style": "IPY_MODEL_c5db5614577e40cf86ffa713b81211c7",
            "value": " 3/3 [00:04&lt;00:00,  1.47s/it]"
          }
        },
        "ba3ccfa4d3fd43828f9b0368d4e85e40": {
          "model_module": "@jupyter-widgets/base",
          "model_name": "LayoutModel",
          "model_module_version": "1.2.0",
          "state": {
            "_model_module": "@jupyter-widgets/base",
            "_model_module_version": "1.2.0",
            "_model_name": "LayoutModel",
            "_view_count": null,
            "_view_module": "@jupyter-widgets/base",
            "_view_module_version": "1.2.0",
            "_view_name": "LayoutView",
            "align_content": null,
            "align_items": null,
            "align_self": null,
            "border": null,
            "bottom": null,
            "display": null,
            "flex": null,
            "flex_flow": null,
            "grid_area": null,
            "grid_auto_columns": null,
            "grid_auto_flow": null,
            "grid_auto_rows": null,
            "grid_column": null,
            "grid_gap": null,
            "grid_row": null,
            "grid_template_areas": null,
            "grid_template_columns": null,
            "grid_template_rows": null,
            "height": null,
            "justify_content": null,
            "justify_items": null,
            "left": null,
            "margin": null,
            "max_height": null,
            "max_width": null,
            "min_height": null,
            "min_width": null,
            "object_fit": null,
            "object_position": null,
            "order": null,
            "overflow": null,
            "overflow_x": null,
            "overflow_y": null,
            "padding": null,
            "right": null,
            "top": null,
            "visibility": null,
            "width": null
          }
        },
        "889f0978b0b74c98b74777c25cb7440f": {
          "model_module": "@jupyter-widgets/base",
          "model_name": "LayoutModel",
          "model_module_version": "1.2.0",
          "state": {
            "_model_module": "@jupyter-widgets/base",
            "_model_module_version": "1.2.0",
            "_model_name": "LayoutModel",
            "_view_count": null,
            "_view_module": "@jupyter-widgets/base",
            "_view_module_version": "1.2.0",
            "_view_name": "LayoutView",
            "align_content": null,
            "align_items": null,
            "align_self": null,
            "border": null,
            "bottom": null,
            "display": null,
            "flex": null,
            "flex_flow": null,
            "grid_area": null,
            "grid_auto_columns": null,
            "grid_auto_flow": null,
            "grid_auto_rows": null,
            "grid_column": null,
            "grid_gap": null,
            "grid_row": null,
            "grid_template_areas": null,
            "grid_template_columns": null,
            "grid_template_rows": null,
            "height": null,
            "justify_content": null,
            "justify_items": null,
            "left": null,
            "margin": null,
            "max_height": null,
            "max_width": null,
            "min_height": null,
            "min_width": null,
            "object_fit": null,
            "object_position": null,
            "order": null,
            "overflow": null,
            "overflow_x": null,
            "overflow_y": null,
            "padding": null,
            "right": null,
            "top": null,
            "visibility": null,
            "width": null
          }
        },
        "60d628a273a84771ab55af945bd9fb6b": {
          "model_module": "@jupyter-widgets/controls",
          "model_name": "DescriptionStyleModel",
          "model_module_version": "1.5.0",
          "state": {
            "_model_module": "@jupyter-widgets/controls",
            "_model_module_version": "1.5.0",
            "_model_name": "DescriptionStyleModel",
            "_view_count": null,
            "_view_module": "@jupyter-widgets/base",
            "_view_module_version": "1.2.0",
            "_view_name": "StyleView",
            "description_width": ""
          }
        },
        "0b21feeb910b460194dd9e786a181786": {
          "model_module": "@jupyter-widgets/base",
          "model_name": "LayoutModel",
          "model_module_version": "1.2.0",
          "state": {
            "_model_module": "@jupyter-widgets/base",
            "_model_module_version": "1.2.0",
            "_model_name": "LayoutModel",
            "_view_count": null,
            "_view_module": "@jupyter-widgets/base",
            "_view_module_version": "1.2.0",
            "_view_name": "LayoutView",
            "align_content": null,
            "align_items": null,
            "align_self": null,
            "border": null,
            "bottom": null,
            "display": null,
            "flex": null,
            "flex_flow": null,
            "grid_area": null,
            "grid_auto_columns": null,
            "grid_auto_flow": null,
            "grid_auto_rows": null,
            "grid_column": null,
            "grid_gap": null,
            "grid_row": null,
            "grid_template_areas": null,
            "grid_template_columns": null,
            "grid_template_rows": null,
            "height": null,
            "justify_content": null,
            "justify_items": null,
            "left": null,
            "margin": null,
            "max_height": null,
            "max_width": null,
            "min_height": null,
            "min_width": null,
            "object_fit": null,
            "object_position": null,
            "order": null,
            "overflow": null,
            "overflow_x": null,
            "overflow_y": null,
            "padding": null,
            "right": null,
            "top": null,
            "visibility": null,
            "width": null
          }
        },
        "223283327aa74f6c91f488233bc08534": {
          "model_module": "@jupyter-widgets/controls",
          "model_name": "ProgressStyleModel",
          "model_module_version": "1.5.0",
          "state": {
            "_model_module": "@jupyter-widgets/controls",
            "_model_module_version": "1.5.0",
            "_model_name": "ProgressStyleModel",
            "_view_count": null,
            "_view_module": "@jupyter-widgets/base",
            "_view_module_version": "1.2.0",
            "_view_name": "StyleView",
            "bar_color": null,
            "description_width": ""
          }
        },
        "8cb4e12a16944fc1bfbb299394729530": {
          "model_module": "@jupyter-widgets/base",
          "model_name": "LayoutModel",
          "model_module_version": "1.2.0",
          "state": {
            "_model_module": "@jupyter-widgets/base",
            "_model_module_version": "1.2.0",
            "_model_name": "LayoutModel",
            "_view_count": null,
            "_view_module": "@jupyter-widgets/base",
            "_view_module_version": "1.2.0",
            "_view_name": "LayoutView",
            "align_content": null,
            "align_items": null,
            "align_self": null,
            "border": null,
            "bottom": null,
            "display": null,
            "flex": null,
            "flex_flow": null,
            "grid_area": null,
            "grid_auto_columns": null,
            "grid_auto_flow": null,
            "grid_auto_rows": null,
            "grid_column": null,
            "grid_gap": null,
            "grid_row": null,
            "grid_template_areas": null,
            "grid_template_columns": null,
            "grid_template_rows": null,
            "height": null,
            "justify_content": null,
            "justify_items": null,
            "left": null,
            "margin": null,
            "max_height": null,
            "max_width": null,
            "min_height": null,
            "min_width": null,
            "object_fit": null,
            "object_position": null,
            "order": null,
            "overflow": null,
            "overflow_x": null,
            "overflow_y": null,
            "padding": null,
            "right": null,
            "top": null,
            "visibility": null,
            "width": null
          }
        },
        "c5db5614577e40cf86ffa713b81211c7": {
          "model_module": "@jupyter-widgets/controls",
          "model_name": "DescriptionStyleModel",
          "model_module_version": "1.5.0",
          "state": {
            "_model_module": "@jupyter-widgets/controls",
            "_model_module_version": "1.5.0",
            "_model_name": "DescriptionStyleModel",
            "_view_count": null,
            "_view_module": "@jupyter-widgets/base",
            "_view_module_version": "1.2.0",
            "_view_name": "StyleView",
            "description_width": ""
          }
        }
      }
    }
  },
  "nbformat": 4,
  "nbformat_minor": 0
}